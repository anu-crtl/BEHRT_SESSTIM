{
  "nbformat": 4,
  "nbformat_minor": 0,
  "metadata": {
    "colab": {
      "provenance": [],
      "include_colab_link": true
    },
    "kernelspec": {
      "name": "python3",
      "display_name": "Python 3"
    },
    "language_info": {
      "name": "python"
    }
  },
  "cells": [
    {
      "cell_type": "markdown",
      "metadata": {
        "id": "view-in-github",
        "colab_type": "text"
      },
      "source": [
        "<a href=\"https://colab.research.google.com/github/anu-crtl/BEHRT_SESSTIM/blob/master/AutoCNN_Breast_Cancer_Random_F.ipynb\" target=\"_parent\"><img src=\"https://colab.research.google.com/assets/colab-badge.svg\" alt=\"Open In Colab\"/></a>"
      ]
    },
    {
      "cell_type": "markdown",
      "source": [
        "# Getting Started\n",
        "\n"
      ],
      "metadata": {
        "id": "KpeWIGbhgB2H"
      }
    },
    {
      "cell_type": "code",
      "execution_count": 2,
      "metadata": {
        "colab": {
          "base_uri": "https://localhost:8080/"
        },
        "id": "jd1LAPx1OKYY",
        "outputId": "d8063d6e-bbdf-43c8-a4f0-71cc227de6ca"
      },
      "outputs": [
        {
          "output_type": "stream",
          "name": "stdout",
          "text": [
            "Mounted at /content/drive\n"
          ]
        }
      ],
      "source": [
        "from google.colab import drive\n",
        "drive.mount('/content/drive')"
      ]
    },
    {
      "cell_type": "code",
      "source": [
        "import os\n",
        "import glob\n",
        "import cv2\n",
        "import numpy as np\n",
        "import pandas as pd\n",
        "from PIL import Image\n",
        "import math\n",
        "import pandas as pd\n",
        "import numpy as np\n",
        "import os\n",
        "import tensorflow as tf\n",
        "import keras\n",
        "import tensorflow as tf\n",
        "import keras.layers\n",
        "import matplotlib.pyplot as plt\n",
        "from tensorflow.keras import Model\n",
        "from tensorflow.keras import Sequential\n",
        "from sklearn.preprocessing import StandardScaler\n",
        "from tensorflow.keras.layers import Dense, Dropout\n",
        "from sklearn.model_selection import train_test_split\n",
        "from tensorflow.keras.losses import MeanSquaredLogarithmicError\n",
        "import numpy as np\n",
        "import os\n",
        "import numpy as np\n",
        "import pandas as pd\n",
        "from numpy.random import seed\n",
        "from sklearn.preprocessing import minmax_scale\n",
        "from sklearn.model_selection import train_test_split\n",
        "from keras.layers import Input, Dense\n",
        "from keras.models import Model\n",
        "import tensorflow as tf\n",
        "from tensorflow.keras import layers, losses\n",
        "from tensorflow.keras.models import Model\n",
        "from sklearn.metrics import accuracy_score, precision_score, recall_score"
      ],
      "metadata": {
        "id": "-ewNEJic22GZ"
      },
      "execution_count": 3,
      "outputs": []
    },
    {
      "cell_type": "markdown",
      "source": [
        "# CSV TO IMAGE\n",
        "(already built dont need to run again )"
      ],
      "metadata": {
        "id": "XP8XcqB6f2iA"
      }
    },
    {
      "cell_type": "code",
      "source": [
        "image_folder = '/content/drive/MyDrive/Breast_Cancer/DATA_BREAST_CANCER_FINAL'\n",
        "csv_folder= '/content/drive/MyDrive/Breast_Cancer/DATA_Breast_cancer_CSV'"
      ],
      "metadata": {
        "id": "YKJY51LogAsI"
      },
      "execution_count": 4,
      "outputs": []
    },
    {
      "cell_type": "code",
      "source": [
        "! ls"
      ],
      "metadata": {
        "colab": {
          "base_uri": "https://localhost:8080/"
        },
        "id": "qBvoSooxoE32",
        "outputId": "3e25a262-e974-44ad-d598-25f35c012466"
      },
      "execution_count": 5,
      "outputs": [
        {
          "output_type": "stream",
          "name": "stdout",
          "text": [
            "drive  sample_data\n"
          ]
        }
      ]
    },
    {
      "cell_type": "code",
      "source": [
        "count=0\n",
        "names=[]\n",
        "for name in sorted(os.listdir(csv_folder)):\n",
        "\n",
        "    if name.endswith(\".csv\"):\n",
        "        names.append(name)\n",
        "        data = pd.read_csv(os.path.join(csv_folder, name), header=None)\n",
        "        data = data.iloc[: , 1:]\n",
        "        data = np.array(data)\n",
        "        #count=count +1\n",
        "        cv2.imwrite(image_folder +'/'+ str(name) + '.png',data )\n",
        "print(names)\n",
        "\n",
        "\n"
      ],
      "metadata": {
        "id": "XMFm6mTfvBhR",
        "colab": {
          "base_uri": "https://localhost:8080/"
        },
        "outputId": "b28cdaad-fd35-41e0-91aa-6095d04d6203"
      },
      "execution_count": 37,
      "outputs": [
        {
          "output_type": "stream",
          "name": "stdout",
          "text": [
            "['patient_1101100325.csv', 'patient_1101100717.csv', 'patient_1101100766.csv', 'patient_1102100494.csv', 'patient_1102101103.csv', 'patient_1102101659.csv', 'patient_1102102186.csv', 'patient_1103100275.csv', 'patient_1103101510.csv', 'patient_1103102437.csv', 'patient_1103102474.csv', 'patient_1104101200.csv', 'patient_1104101230.csv', 'patient_1105102171.csv', 'patient_1106100062.csv', 'patient_1106100106.csv', 'patient_1106101233.csv', 'patient_1106101234.csv', 'patient_1106103328.csv', 'patient_1110100626.csv', 'patient_1110103197.csv', 'patient_1110103680.csv', 'patient_1110103767.csv', 'patient_1111100068.csv', 'patient_1111100468.csv', 'patient_1111102649.csv', 'patient_1112102081.csv', 'patient_1112102730.csv', 'patient_1113100226.csv', 'patient_1113101084.csv', 'patient_1113101146.csv', 'patient_1113101277.csv', 'patient_1113101523.csv', 'patient_1113101669.csv', 'patient_1113101835.csv', 'patient_1113101850.csv', 'patient_1113102912.csv', 'patient_1113103114.csv', 'patient_1113103267.csv', 'patient_1114101267.csv', 'patient_1114101535.csv', 'patient_1114102761.csv', 'patient_1114102987.csv', 'patient_1115102701.csv', 'patient_1116100629.csv', 'patient_1116101140.csv', 'patient_1116103351.csv', 'patient_1117100789.csv', 'patient_1117103359.csv', 'patient_1117103532.csv', 'patient_1118102215.csv', 'patient_1119103589.csv', 'patient_1121100732.csv', 'patient_1121102627.csv', 'patient_1121102797.csv', 'patient_1122100242.csv', 'patient_1122101662.csv', 'patient_1122102187.csv', 'patient_1124101086.csv', 'patient_1124101302.csv', 'patient_1124102586.csv', 'patient_1124103519.csv', 'patient_1125103530.csv', 'patient_1126101308.csv', 'patient_1129100225.csv', 'patient_1129102251.csv', 'patient_1129102389.csv', 'patient_1129102510.csv', 'patient_1129103177.csv', 'patient_1129103697.csv', 'patient_1130100608.csv', 'patient_1130102604.csv', 'patient_1130103127.csv', 'patient_1131100370.csv', 'patient_1131101002.csv', 'patient_1131101857.csv', 'patient_1131102572.csv', 'patient_1131102724.csv', 'patient_1131103472.csv', 'patient_1133100420.csv', 'patient_1133100928.csv', 'patient_1133101105.csv', 'patient_1133101666.csv', 'patient_1133102195.csv', 'patient_1133102717.csv', 'patient_1133102790.csv', 'patient_1133102855.csv', 'patient_1133102919.csv', 'patient_1135101171.csv', 'patient_1135101487.csv', 'patient_1135101515.csv', 'patient_1135101525.csv', 'patient_1135101643.csv', 'patient_1135102491.csv', 'patient_1135103456.csv', 'patient_1137100037.csv', 'patient_1137101293.csv', 'patient_1137102403.csv', 'patient_1137102774.csv', 'patient_1138100640.csv', 'patient_1138101868.csv', 'patient_1138102716.csv', 'patient_1138103084.csv', 'patient_1138103502.csv', 'patient_1139100651.csv', 'patient_1140100809.csv', 'patient_1140102377.csv', 'patient_1140103326.csv', 'patient_1141100017.csv', 'patient_1141103293.csv', 'patient_1142201039.csv', 'patient_1142202358.csv', 'patient_1142202516.csv', 'patient_1142203740.csv', 'patient_1142203793.csv', 'patient_1143100614.csv', 'patient_1143102144.csv', 'patient_1143103354.csv', 'patient_1144100053.csv', 'patient_1144100120.csv', 'patient_1144101123.csv', 'patient_1144101343.csv', 'patient_1144101490.csv', 'patient_1144101634.csv', 'patient_1144101939.csv', 'patient_1144102050.csv', 'patient_1144102137.csv', 'patient_1144102364.csv', 'patient_1144102508.csv', 'patient_1144102905.csv', 'patient_1144103813.csv', 'patient_1145102868.csv', 'patient_1145103776.csv', 'patient_1146101679.csv', 'patient_1147102268.csv', 'patient_1148100467.csv', 'patient_1149100332.csv', 'patient_1149100649.csv', 'patient_1149100942.csv', 'patient_1149101585.csv', 'patient_1149101819.csv', 'patient_1149101887.csv', 'patient_1149102141.csv', 'patient_1149102811.csv', 'patient_1149103791.csv', 'patient_1153100237.csv', 'patient_1153101507.csv', 'patient_1153101518.csv', 'patient_1153102388.csv', 'patient_1153103256.csv', 'patient_1153103396.csv', 'patient_1155100504.csv', 'patient_1156102124.csv', 'patient_1156103454.csv', 'patient_1156103663.csv', 'patient_1157100212.csv', 'patient_1157101674.csv', 'patient_1157102380.csv', 'patient_1157102561.csv', 'patient_1157102891.csv', 'patient_1158102669.csv', 'patient_1159400796.csv', 'patient_1159500647.csv', 'patient_1159503144.csv', 'patient_1159503324.csv', 'patient_1159503762.csv', 'patient_1159700027.csv', 'patient_1159700080.csv', 'patient_1159701497.csv', 'patient_1159702994.csv', 'patient_1159703158.csv', 'patient_1159900100.csv', 'patient_1159902623.csv', 'patient_1159903339.csv', 'patient_1160100658.csv', 'patient_1160100798.csv', 'patient_1160102016.csv', 'patient_1162301035.csv', 'patient_1162302462.csv', 'patient_1162400950.csv', 'patient_1162401231.csv', 'patient_1162401393.csv', 'patient_1162401772.csv', 'patient_1162403053.csv', 'patient_1163100856.csv', 'patient_1163101034.csv', 'patient_1163101701.csv', 'patient_1163101976.csv', 'patient_1164100509.csv', 'patient_1164101432.csv', 'patient_1164102066.csv', 'patient_1164102479.csv', 'patient_1164103341.csv', 'patient_1164200087.csv', 'patient_1164202054.csv', 'patient_1164202468.csv', 'patient_1165101457.csv', 'patient_1165102540.csv', 'patient_1166101300.csv', 'patient_1167300153.csv', 'patient_1167300286.csv', 'patient_1167300384.csv', 'patient_1167300528.csv', 'patient_1167300923.csv', 'patient_1167301218.csv', 'patient_1167301354.csv', 'patient_1167302592.csv', 'patient_1167302673.csv', 'patient_1167303092.csv', 'patient_1167303231.csv', 'patient_1168201322.csv', 'patient_1168201858.csv', 'patient_1169100376.csv', 'patient_1169100471.csv', 'patient_1169100585.csv', 'patient_1169100633.csv', 'patient_1169101314.csv', 'patient_1169102321.csv', 'patient_1169103765.csv', 'patient_1170100554.csv', 'patient_1171101193.csv', 'patient_1171101451.csv', 'patient_1171103298.csv', 'patient_1171103371.csv', 'patient_1172101284.csv', 'patient_1172101437.csv', 'patient_1172102612.csv', 'patient_1173100414.csv', 'patient_1173103176.csv', 'patient_1174100136.csv', 'patient_1174100810.csv', 'patient_1174103105.csv', 'patient_1175100115.csv', 'patient_1175100815.csv', 'patient_1175101144.csv', 'patient_1175101533.csv', 'patient_1175101730.csv', 'patient_1175101740.csv', 'patient_1175103330.csv', 'patient_1175103346.csv', 'patient_1175103442.csv', 'patient_1175103704.csv', 'patient_1176400730.csv', 'patient_1176401173.csv', 'patient_1176401374.csv', 'patient_1176401704.csv', 'patient_1176402123.csv', 'patient_1176402220.csv', 'patient_1176402413.csv', 'patient_1176402740.csv', 'patient_1177100253.csv', 'patient_1177100288.csv', 'patient_1177100578.csv', 'patient_1177102227.csv', 'patient_1177102646.csv', 'patient_1177102970.csv', 'patient_1177103310.csv', 'patient_1178100186.csv', 'patient_1178100686.csv', 'patient_1178100902.csv', 'patient_1178101235.csv', 'patient_1178101893.csv', 'patient_1178102008.csv', 'patient_1178102103.csv', 'patient_1178102909.csv', 'patient_1178103066.csv', 'patient_1179102256.csv', 'patient_1180100315.csv', 'patient_1180102918.csv', 'patient_1180103578.csv', 'patient_1182101676.csv', 'patient_1182103252.csv', 'patient_1183101101.csv', 'patient_1183101563.csv', 'patient_1183103691.csv', 'patient_1184100422.csv', 'patient_1184101430.csv', 'patient_1184101816.csv', 'patient_1184102189.csv', 'patient_1185101210.csv', 'patient_1185102289.csv', 'patient_1185102457.csv', 'patient_1186100986.csv', 'patient_1188100781.csv', 'patient_1188101020.csv', 'patient_1188101272.csv', 'patient_1188102290.csv', 'patient_1188102637.csv', 'patient_1188102883.csv', 'patient_1188102990.csv', 'patient_1188103628.csv', 'patient_1189100218.csv', 'patient_1189100734.csv', 'patient_1190100449.csv', 'patient_1190100588.csv', 'patient_1191101097.csv', 'patient_1191101349.csv', 'patient_1191101397.csv', 'patient_1191101751.csv', 'patient_1191103486.csv', 'patient_1191103667.csv', 'patient_1192100358.csv', 'patient_1193100008.csv', 'patient_1193100635.csv', 'patient_1193101201.csv', 'patient_1193102089.csv', 'patient_1194100551.csv', 'patient_1194102792.csv', 'patient_1194103088.csv', 'patient_1194103747.csv', 'patient_1195100266.csv', 'patient_1195102279.csv', 'patient_1195103652.csv', 'patient_1195103700.csv', 'patient_1200100071.csv', 'patient_1200100291.csv', 'patient_1200800246.csv', 'patient_1201200412.csv', 'patient_1201400004.csv', 'patient_1201900316.csv', 'patient_1201900589.csv', 'patient_1202200318.csv', 'patient_1202200408.csv', 'patient_1202300323.csv', 'patient_1202600075.csv', 'patient_1203000049.csv', 'patient_1203000131.csv', 'patient_1203000565.csv', 'patient_1203100241.csv', 'patient_1203300420.csv', 'patient_1203400294.csv', 'patient_1203500329.csv', 'patient_1204400140.csv', 'patient_1204500231.csv', 'patient_1204600171.csv', 'patient_1204700221.csv', 'patient_1204700335.csv', 'patient_1204900252.csv', 'patient_1204900399.csv', 'patient_1204900560.csv', 'patient_1205000155.csv', 'patient_1205100258.csv', 'patient_1205500463.csv', 'patient_1205600154.csv', 'patient_1205800189.csv', 'patient_1206000605.csv', 'patient_1206200175.csv', 'patient_1206300546.csv', 'patient_1206900078.csv', 'patient_1206900217.csv', 'patient_1207000390.csv', 'patient_1207200306.csv', 'patient_1207400174.csv', 'patient_1207500538.csv', 'patient_1207600462.csv', 'patient_1207900035.csv', 'patient_1207900569.csv', 'patient_1208000405.csv', 'patient_1208100296.csv', 'patient_1208100590.csv', 'patient_1208300076.csv', 'patient_1208300097.csv', 'patient_1208400092.csv', 'patient_1208400347.csv', 'patient_1302100009.csv', 'patient_1306100511.csv', 'patient_1313100046.csv', 'patient_1313100375.csv', 'patient_1318100114.csv', 'patient_1319100427.csv', 'patient_1325100004.csv', 'patient_1325100110.csv', 'patient_1331100274.csv', 'patient_1331100562.csv', 'patient_1333100049.csv', 'patient_1333100157.csv', 'patient_1337100245.csv', 'patient_1344100161.csv', 'patient_1345100230.csv', 'patient_1350100021.csv', 'patient_1354100458.csv', 'patient_1354100543.csv', 'patient_1356100580.csv', 'patient_1357100279.csv', 'patient_1366100054.csv', 'patient_1366100521.csv', 'patient_1370100583.csv', 'patient_1371100277.csv', 'patient_1377100365.csv', 'patient_1378100475.csv', 'patient_1378100513.csv', 'patient_1383100314.csv', 'patient_1383100554.csv', 'patient_1392100421.csv', 'patient_2101102369.csv', 'patient_2101103538.csv', 'patient_2101103731.csv', 'patient_2102102265.csv', 'patient_2103100444.csv', 'patient_2103101089.csv', 'patient_2106100055.csv', 'patient_2106101521.csv', 'patient_2107201247.csv', 'patient_2110103567.csv', 'patient_2112102387.csv', 'patient_2113101031.csv', 'patient_2113101048.csv', 'patient_2113103336.csv', 'patient_2114100416.csv', 'patient_2114101353.csv', 'patient_2114103704.csv', 'patient_2117103655.csv', 'patient_2120202414.csv', 'patient_2121100149.csv', 'patient_2121101019.csv', 'patient_2121102507.csv', 'patient_2121102941.csv', 'patient_2122101152.csv', 'patient_2122102375.csv', 'patient_2124102333.csv', 'patient_2124102667.csv', 'patient_2125100445.csv', 'patient_2126102440.csv', 'patient_2127103003.csv', 'patient_2128101399.csv', 'patient_2129100071.csv', 'patient_2130100743.csv', 'patient_2130102364.csv', 'patient_2131102736.csv', 'patient_2131103092.csv', 'patient_2131103373.csv', 'patient_2131103710.csv', 'patient_2133103546.csv', 'patient_2135100622.csv', 'patient_2140101037.csv', 'patient_2141100461.csv', 'patient_2142200063.csv', 'patient_2142203182.csv', 'patient_2144101440.csv', 'patient_2145100124.csv', 'patient_2145101138.csv', 'patient_2145101240.csv', 'patient_2146101558.csv', 'patient_2147101644.csv', 'patient_2149100217.csv', 'patient_2149101538.csv', 'patient_2149102295.csv', 'patient_2150100486.csv', 'patient_2150101029.csv', 'patient_2153103185.csv', 'patient_2156100891.csv', 'patient_2157101262.csv', 'patient_2157102207.csv', 'patient_2157102801.csv', 'patient_2157103741.csv', 'patient_2159403235.csv', 'patient_2159501332.csv', 'patient_2159502220.csv', 'patient_2159900395.csv', 'patient_2161101574.csv', 'patient_2161102825.csv', 'patient_2161103301.csv', 'patient_2162303225.csv', 'patient_2163103239.csv', 'patient_2163103673.csv', 'patient_2164101986.csv', 'patient_2164202916.csv', 'patient_2165100814.csv', 'patient_2166101490.csv', 'patient_2167302695.csv', 'patient_2168201604.csv', 'patient_2168202126.csv', 'patient_2168202247.csv', 'patient_2169100140.csv', 'patient_2169100974.csv', 'patient_2169101409.csv', 'patient_2172103678.csv', 'patient_2173100164.csv', 'patient_2174100003.csv', 'patient_2174102584.csv', 'patient_2175100023.csv', 'patient_2175100736.csv', 'patient_2175101853.csv', 'patient_2175102524.csv', 'patient_2175102920.csv', 'patient_2175103001.csv', 'patient_2177103069.csv', 'patient_2177103427.csv', 'patient_2178101432.csv', 'patient_2178101996.csv', 'patient_2178102851.csv', 'patient_2179102096.csv', 'patient_2179102790.csv', 'patient_2181102771.csv', 'patient_2183100346.csv', 'patient_2183101022.csv', 'patient_2183101175.csv', 'patient_2183103579.csv', 'patient_2184102654.csv', 'patient_2185100918.csv', 'patient_2186103514.csv', 'patient_2186103653.csv', 'patient_2186103665.csv', 'patient_2188102454.csv', 'patient_2188102926.csv', 'patient_2191100554.csv', 'patient_2191102071.csv', 'patient_2192100670.csv', 'patient_2193101069.csv', 'patient_2194101738.csv', 'patient_2195100281.csv', 'patient_2195101570.csv', 'patient_2200100977.csv', 'patient_2200800698.csv', 'patient_2202300073.csv', 'patient_2203000857.csv', 'patient_2203600020.csv', 'patient_2203600193.csv', 'patient_2204401137.csv', 'patient_2205101260.csv', 'patient_2205300263.csv', 'patient_2205300574.csv', 'patient_2205900094.csv', 'patient_2205900786.csv', 'patient_2206100627.csv', 'patient_2206300031.csv', 'patient_2207201026.csv', 'patient_2207201129.csv', 'patient_2208000386.csv', 'patient_2208000774.csv', 'patient_2208900084.csv', 'patient_2331100315.csv', 'patient_2347100776.csv', 'patient_2349100065.csv', 'patient_2359100007.csv', 'patient_2359100133.csv', 'patient_2359100136.csv', 'patient_2359100240.csv', 'patient_2363100458.csv', 'patient_2364100342.csv', 'patient_2364100961.csv', 'patient_2375100265.csv', 'patient_2375100282.csv', 'patient_2376100199.csv', 'patient_2383100687.csv', 'patient_2383100716.csv', 'patient_3100100351.csv', 'patient_3100101240.csv', 'patient_3100602235.csv', 'patient_3100602416.csv', 'patient_3100602858.csv', 'patient_3100605326.csv', 'patient_3100703179.csv', 'patient_3100704583.csv', 'patient_3100902184.csv', 'patient_3101100441.csv', 'patient_3101300732.csv', 'patient_3101303904.csv', 'patient_3101304835.csv', 'patient_3101305357.csv', 'patient_3101404270.csv', 'patient_3101602540.csv', 'patient_3101705651.csv', 'patient_3101800621.csv', 'patient_3101804958.csv', 'patient_3102000942.csv', 'patient_3102000971.csv', 'patient_3102305661.csv', 'patient_3102402966.csv', 'patient_3102500616.csv', 'patient_3102502375.csv', 'patient_3102505234.csv', 'patient_3102604862.csv', 'patient_3102803444.csv', 'patient_3103104802.csv', 'patient_3103105077.csv', 'patient_3103202124.csv', 'patient_3103204258.csv', 'patient_3103300545.csv', 'patient_3103302075.csv', 'patient_3103302333.csv', 'patient_3103302435.csv', 'patient_3103302601.csv', 'patient_3103303979.csv', 'patient_3103400251.csv', 'patient_3103401548.csv', 'patient_3103402941.csv', 'patient_3103505145.csv', 'patient_3103602827.csv', 'patient_3103702963.csv', 'patient_3103703569.csv', 'patient_3103703812.csv', 'patient_3103801435.csv', 'patient_3103802349.csv', 'patient_3103802394.csv', 'patient_3103803618.csv', 'patient_3103805666.csv', 'patient_3103904096.csv', 'patient_3103905372.csv', 'patient_3104001999.csv', 'patient_3104003218.csv', 'patient_3104101218.csv', 'patient_3104400454.csv', 'patient_3104402930.csv', 'patient_3104404364.csv', 'patient_3104405494.csv', 'patient_3104503184.csv', 'patient_3104504147.csv', 'patient_3104505212.csv', 'patient_3104603313.csv', 'patient_3104901371.csv', 'patient_3105105645.csv', 'patient_3105402408.csv', 'patient_3105405343.csv', 'patient_3105500090.csv', 'patient_3105601541.csv', 'patient_3105605763.csv', 'patient_3105605766.csv', 'patient_3105700139.csv', 'patient_3105701051.csv', 'patient_3105702143.csv', 'patient_3105703079.csv', 'patient_3105900158.csv', 'patient_3105900243.csv', 'patient_3105902721.csv', 'patient_3105902907.csv', 'patient_3105903243.csv', 'patient_3105904417.csv', 'patient_3106001253.csv', 'patient_3106002646.csv', 'patient_3106200038.csv', 'patient_3106202917.csv', 'patient_3106203815.csv', 'patient_3106205554.csv', 'patient_3106302772.csv', 'patient_3106304986.csv', 'patient_3106600678.csv', 'patient_3106605286.csv', 'patient_3106700856.csv', 'patient_3106701502.csv', 'patient_3106703371.csv', 'patient_3106704673.csv', 'patient_3106901776.csv', 'patient_3106903725.csv', 'patient_3107103094.csv', 'patient_3107104254.csv', 'patient_3107300050.csv', 'patient_3107500663.csv', 'patient_3107502660.csv', 'patient_3107502798.csv', 'patient_3107503562.csv', 'patient_3107601205.csv', 'patient_3107602472.csv', 'patient_3107603405.csv', 'patient_3107604932.csv', 'patient_3107701718.csv', 'patient_3107703669.csv', 'patient_3107801680.csv', 'patient_3107801969.csv', 'patient_3107902709.csv', 'patient_3107904428.csv', 'patient_3108100490.csv', 'patient_3108100632.csv', 'patient_3108105150.csv', 'patient_3108203228.csv', 'patient_3108301653.csv', 'patient_3108304195.csv', 'patient_3108304458.csv', 'patient_3108401360.csv', 'patient_3108402103.csv', 'patient_3108502406.csv', 'patient_3108505333.csv', 'patient_3108605378.csv', 'patient_3108803879.csv', 'patient_3108804293.csv', 'patient_3108901988.csv', 'patient_3109000890.csv', 'patient_3109100079.csv', 'patient_3109102469.csv', 'patient_3109102623.csv', 'patient_3109103133.csv', 'patient_3109103972.csv', 'patient_3109104547.csv', 'patient_3109104838.csv', 'patient_3109200070.csv', 'patient_3109200593.csv', 'patient_3109201659.csv', 'patient_3109202724.csv', 'patient_3109204812.csv', 'patient_3109301547.csv', 'patient_3109302115.csv', 'patient_3109400473.csv', 'patient_3109400612.csv', 'patient_3109500455.csv', 'patient_3109501060.csv', 'patient_3109501456.csv', 'patient_3109501475.csv', 'patient_3109502745.csv', 'patient_3109503060.csv', 'patient_3109504162.csv', 'patient_3109505026.csv', 'patient_3200100108.csv', 'patient_3200200547.csv', 'patient_3200200837.csv', 'patient_3201100225.csv', 'patient_3201100765.csv', 'patient_3201100994.csv', 'patient_3201400307.csv', 'patient_3201500491.csv', 'patient_3201800260.csv', 'patient_3201900927.csv', 'patient_3202100754.csv', 'patient_3202200550.csv', 'patient_3202400413.csv', 'patient_3202400904.csv', 'patient_3202600119.csv', 'patient_3202600509.csv', 'patient_3202700125.csv', 'patient_3202700394.csv', 'patient_3202900068.csv', 'patient_3203200252.csv', 'patient_3203400246.csv', 'patient_3203400564.csv', 'patient_3203400728.csv', 'patient_3203400901.csv', 'patient_3203500126.csv', 'patient_3203700019.csv', 'patient_3203700622.csv', 'patient_3203800129.csv', 'patient_3203800534.csv', 'patient_3204400206.csv', 'patient_3204400377.csv', 'patient_3204900092.csv', 'patient_3204900175.csv', 'patient_3204900210.csv', 'patient_3204900344.csv', 'patient_3204900435.csv', 'patient_3205100014.csv', 'patient_3205100167.csv', 'patient_3205100419.csv', 'patient_3205100825.csv', 'patient_3205600621.csv', 'patient_3205600915.csv', 'patient_3205700523.csv', 'patient_3205900087.csv', 'patient_3205900432.csv', 'patient_3205901002.csv', 'patient_3206100386.csv', 'patient_3206200762.csv', 'patient_3206300782.csv', 'patient_3206400054.csv', 'patient_3206400738.csv', 'patient_3206700085.csv', 'patient_3206900512.csv', 'patient_3206900802.csv', 'patient_3207100056.csv', 'patient_3207200199.csv', 'patient_3207200884.csv', 'patient_3207700388.csv', 'patient_3208200752.csv', 'patient_3208600723.csv', 'patient_3208700674.csv', 'patient_3300600488.csv', 'patient_3301400286.csv', 'patient_3301700817.csv', 'patient_3302100448.csv', 'patient_3302100739.csv', 'patient_3302301281.csv', 'patient_3302901034.csv', 'patient_3303000446.csv', 'patient_3303300110.csv', 'patient_3303300205.csv', 'patient_3303400687.csv', 'patient_3303400698.csv', 'patient_3304000308.csv', 'patient_3304400147.csv', 'patient_3304400656.csv', 'patient_3304400855.csv', 'patient_3304500790.csv', 'patient_3304801210.csv', 'patient_3305600307.csv', 'patient_3305700094.csv', 'patient_3305700303.csv', 'patient_3305801189.csv', 'patient_3305900583.csv', 'patient_3306200260.csv', 'patient_3306401058.csv', 'patient_3306401142.csv', 'patient_3306600378.csv', 'patient_3306800422.csv', 'patient_3306900468.csv', 'patient_3306901134.csv', 'patient_3307300226.csv', 'patient_3307900318.csv', 'patient_3308100104.csv', 'patient_3308300148.csv', 'patient_3308300753.csv', 'patient_3308500117.csv', 'patient_3308500552.csv', 'patient_3308500933.csv', 'patient_3309200964.csv', 'patient_3309201310.csv', 'patient_3309300574.csv', 'patient_4100304038.csv', 'patient_4100604090.csv', 'patient_4100606011.csv', 'patient_4101104066.csv', 'patient_4101205028.csv', 'patient_4101302645.csv', 'patient_4101305270.csv', 'patient_4101305558.csv', 'patient_4101306694.csv', 'patient_4101406470.csv', 'patient_4101804438.csv', 'patient_4102200109.csv', 'patient_4102202387.csv', 'patient_4102502550.csv', 'patient_4102504064.csv', 'patient_4102505629.csv', 'patient_4102902938.csv', 'patient_4103002225.csv', 'patient_4103005528.csv', 'patient_4103100469.csv', 'patient_4103304235.csv', 'patient_4103306656.csv', 'patient_4103403632.csv', 'patient_4103404080.csv', 'patient_4103503253.csv', 'patient_4103606405.csv', 'patient_4103702971.csv', 'patient_4104103457.csv', 'patient_4104202901.csv', 'patient_4104402756.csv', 'patient_4104505062.csv', 'patient_4104506389.csv', 'patient_4105600790.csv', 'patient_4105601474.csv', 'patient_4105700375.csv', 'patient_4105702066.csv', 'patient_4105804164.csv', 'patient_4105904747.csv', 'patient_4106202823.csv', 'patient_4106501017.csv', 'patient_4106901276.csv', 'patient_4107302430.csv', 'patient_4107304329.csv', 'patient_4107404524.csv', 'patient_4107501270.csv', 'patient_4107600302.csv', 'patient_4107703160.csv', 'patient_4107705335.csv', 'patient_4107803218.csv', 'patient_4107903536.csv', 'patient_4108304083.csv', 'patient_4108304508.csv', 'patient_4108503783.csv', 'patient_4108705663.csv', 'patient_4109100345.csv', 'patient_4109204384.csv', 'patient_4109303917.csv', 'patient_4109404046.csv', 'patient_4109405553.csv', 'patient_4200201691.csv', 'patient_4200201830.csv', 'patient_4200301289.csv', 'patient_4200301743.csv', 'patient_4200400361.csv', 'patient_4200400556.csv', 'patient_4200400904.csv', 'patient_4200800068.csv', 'patient_4201100920.csv', 'patient_4201401592.csv', 'patient_4202000625.csv', 'patient_4202001689.csv', 'patient_4202201428.csv', 'patient_4202600008.csv', 'patient_4202601290.csv', 'patient_4203000669.csv', 'patient_4203101063.csv', 'patient_4203400291.csv', 'patient_4203401410.csv', 'patient_4203500963.csv', 'patient_4203900212.csv', 'patient_4204001386.csv', 'patient_4204200798.csv', 'patient_4204400023.csv', 'patient_4204500649.csv', 'patient_4204600706.csv', 'patient_4205100131.csv', 'patient_4205900593.csv', 'patient_4206000614.csv', 'patient_4206001207.csv', 'patient_4206800615.csv', 'patient_4207400780.csv', 'patient_4208201413.csv', 'patient_4208300846.csv', 'patient_4208400421.csv', 'patient_4208400435.csv', 'patient_4208500083.csv', 'patient_4300100515.csv', 'patient_4300600314.csv', 'patient_4300700039.csv', 'patient_4301000554.csv', 'patient_4301301621.csv', 'patient_4301400125.csv', 'patient_4302600886.csv', 'patient_4303100739.csv', 'patient_4303200752.csv', 'patient_4303300686.csv', 'patient_4303500888.csv', 'patient_4303800354.csv', 'patient_4303800944.csv', 'patient_4303801427.csv', 'patient_4304900325.csv', 'patient_4304901183.csv', 'patient_4306401810.csv', 'patient_4306900447.csv', 'patient_4307500720.csv', 'patient_4307501260.csv', 'patient_4307501749.csv', 'patient_4308000301.csv', 'patient_4308300843.csv', 'patient_4308301414.csv', 'patient_4309100642.csv', 'patient_4309400482.csv']\n"
          ]
        }
      ]
    },
    {
      "cell_type": "markdown",
      "source": [
        "# LOAD IMAGES + TRAIN TEST\n",
        "````\n",
        "\n"
      ],
      "metadata": {
        "id": "biNeyhS-MuoN"
      }
    },
    {
      "cell_type": "code",
      "source": [
        "\n",
        "img_folder='/content/drive/MyDrive/Breast_Cancer/DATA_BREAST_CANCER_FINAL'\n",
        "images = [cv2.imread(file, cv2.IMREAD_GRAYSCALE) for file in glob.glob('/content/drive/MyDrive/Breast_Cancer/DATA_BREAST_CANCER_FINAL/*.png')]\n",
        "print(len(images))\n",
        "images[1]"
      ],
      "metadata": {
        "id": "Cwq8EPN5387h",
        "colab": {
          "base_uri": "https://localhost:8080/"
        },
        "outputId": "0379a388-6986-4d72-82bd-df421c804c1d"
      },
      "execution_count": 17,
      "outputs": [
        {
          "output_type": "stream",
          "name": "stdout",
          "text": [
            "925\n"
          ]
        },
        {
          "output_type": "execute_result",
          "data": {
            "text/plain": [
              "array([[0, 0, 0, ..., 0, 0, 0],\n",
              "       [1, 0, 0, ..., 0, 0, 0],\n",
              "       [0, 0, 0, ..., 0, 0, 0],\n",
              "       ...,\n",
              "       [0, 0, 0, ..., 0, 0, 0],\n",
              "       [0, 0, 0, ..., 0, 0, 0],\n",
              "       [0, 0, 0, ..., 0, 0, 0]], dtype=uint8)"
            ]
          },
          "metadata": {},
          "execution_count": 17
        }
      ]
    },
    {
      "cell_type": "code",
      "source": [
        "df=pd.read_csv(\"/content/drive/MyDrive/Breast_Cancer/ENQUETE_2\")\n"
      ],
      "metadata": {
        "colab": {
          "base_uri": "https://localhost:8080/",
          "height": 266
        },
        "id": "lwOFzjxF426r",
        "outputId": "e8da09df-d5dc-4d26-c36e-1dd24166e888"
      },
      "execution_count": 18,
      "outputs": [
        {
          "output_type": "error",
          "ename": "UnicodeDecodeError",
          "evalue": "ignored",
          "traceback": [
            "\u001b[0;31m---------------------------------------------------------------------------\u001b[0m",
            "\u001b[0;31mUnicodeDecodeError\u001b[0m                        Traceback (most recent call last)",
            "\u001b[0;32m<ipython-input-18-0a7980287495>\u001b[0m in \u001b[0;36m<cell line: 1>\u001b[0;34m()\u001b[0m\n\u001b[0;32m----> 1\u001b[0;31m \u001b[0mdf\u001b[0m\u001b[0;34m=\u001b[0m\u001b[0mpd\u001b[0m\u001b[0;34m.\u001b[0m\u001b[0mread_csv\u001b[0m\u001b[0;34m(\u001b[0m\u001b[0;34m\"/content/drive/MyDrive/Breast_Cancer/ENQUETE_2\"\u001b[0m\u001b[0;34m)\u001b[0m\u001b[0;34m\u001b[0m\u001b[0;34m\u001b[0m\u001b[0m\n\u001b[0m",
            "\u001b[0;32m/usr/local/lib/python3.10/dist-packages/pandas/util/_decorators.py\u001b[0m in \u001b[0;36mwrapper\u001b[0;34m(*args, **kwargs)\u001b[0m\n\u001b[1;32m    209\u001b[0m                 \u001b[0;32melse\u001b[0m\u001b[0;34m:\u001b[0m\u001b[0;34m\u001b[0m\u001b[0;34m\u001b[0m\u001b[0m\n\u001b[1;32m    210\u001b[0m                     \u001b[0mkwargs\u001b[0m\u001b[0;34m[\u001b[0m\u001b[0mnew_arg_name\u001b[0m\u001b[0;34m]\u001b[0m \u001b[0;34m=\u001b[0m \u001b[0mnew_arg_value\u001b[0m\u001b[0;34m\u001b[0m\u001b[0;34m\u001b[0m\u001b[0m\n\u001b[0;32m--> 211\u001b[0;31m             \u001b[0;32mreturn\u001b[0m \u001b[0mfunc\u001b[0m\u001b[0;34m(\u001b[0m\u001b[0;34m*\u001b[0m\u001b[0margs\u001b[0m\u001b[0;34m,\u001b[0m \u001b[0;34m**\u001b[0m\u001b[0mkwargs\u001b[0m\u001b[0;34m)\u001b[0m\u001b[0;34m\u001b[0m\u001b[0;34m\u001b[0m\u001b[0m\n\u001b[0m\u001b[1;32m    212\u001b[0m \u001b[0;34m\u001b[0m\u001b[0m\n\u001b[1;32m    213\u001b[0m         \u001b[0;32mreturn\u001b[0m \u001b[0mcast\u001b[0m\u001b[0;34m(\u001b[0m\u001b[0mF\u001b[0m\u001b[0;34m,\u001b[0m \u001b[0mwrapper\u001b[0m\u001b[0;34m)\u001b[0m\u001b[0;34m\u001b[0m\u001b[0;34m\u001b[0m\u001b[0m\n",
            "\u001b[0;32m/usr/local/lib/python3.10/dist-packages/pandas/util/_decorators.py\u001b[0m in \u001b[0;36mwrapper\u001b[0;34m(*args, **kwargs)\u001b[0m\n\u001b[1;32m    329\u001b[0m                     \u001b[0mstacklevel\u001b[0m\u001b[0;34m=\u001b[0m\u001b[0mfind_stack_level\u001b[0m\u001b[0;34m(\u001b[0m\u001b[0;34m)\u001b[0m\u001b[0;34m,\u001b[0m\u001b[0;34m\u001b[0m\u001b[0;34m\u001b[0m\u001b[0m\n\u001b[1;32m    330\u001b[0m                 )\n\u001b[0;32m--> 331\u001b[0;31m             \u001b[0;32mreturn\u001b[0m \u001b[0mfunc\u001b[0m\u001b[0;34m(\u001b[0m\u001b[0;34m*\u001b[0m\u001b[0margs\u001b[0m\u001b[0;34m,\u001b[0m \u001b[0;34m**\u001b[0m\u001b[0mkwargs\u001b[0m\u001b[0;34m)\u001b[0m\u001b[0;34m\u001b[0m\u001b[0;34m\u001b[0m\u001b[0m\n\u001b[0m\u001b[1;32m    332\u001b[0m \u001b[0;34m\u001b[0m\u001b[0m\n\u001b[1;32m    333\u001b[0m         \u001b[0;31m# error: \"Callable[[VarArg(Any), KwArg(Any)], Any]\" has no\u001b[0m\u001b[0;34m\u001b[0m\u001b[0;34m\u001b[0m\u001b[0m\n",
            "\u001b[0;32m/usr/local/lib/python3.10/dist-packages/pandas/io/parsers/readers.py\u001b[0m in \u001b[0;36mread_csv\u001b[0;34m(filepath_or_buffer, sep, delimiter, header, names, index_col, usecols, squeeze, prefix, mangle_dupe_cols, dtype, engine, converters, true_values, false_values, skipinitialspace, skiprows, skipfooter, nrows, na_values, keep_default_na, na_filter, verbose, skip_blank_lines, parse_dates, infer_datetime_format, keep_date_col, date_parser, dayfirst, cache_dates, iterator, chunksize, compression, thousands, decimal, lineterminator, quotechar, quoting, doublequote, escapechar, comment, encoding, encoding_errors, dialect, error_bad_lines, warn_bad_lines, on_bad_lines, delim_whitespace, low_memory, memory_map, float_precision, storage_options)\u001b[0m\n\u001b[1;32m    948\u001b[0m     \u001b[0mkwds\u001b[0m\u001b[0;34m.\u001b[0m\u001b[0mupdate\u001b[0m\u001b[0;34m(\u001b[0m\u001b[0mkwds_defaults\u001b[0m\u001b[0;34m)\u001b[0m\u001b[0;34m\u001b[0m\u001b[0;34m\u001b[0m\u001b[0m\n\u001b[1;32m    949\u001b[0m \u001b[0;34m\u001b[0m\u001b[0m\n\u001b[0;32m--> 950\u001b[0;31m     \u001b[0;32mreturn\u001b[0m \u001b[0m_read\u001b[0m\u001b[0;34m(\u001b[0m\u001b[0mfilepath_or_buffer\u001b[0m\u001b[0;34m,\u001b[0m \u001b[0mkwds\u001b[0m\u001b[0;34m)\u001b[0m\u001b[0;34m\u001b[0m\u001b[0;34m\u001b[0m\u001b[0m\n\u001b[0m\u001b[1;32m    951\u001b[0m \u001b[0;34m\u001b[0m\u001b[0m\n\u001b[1;32m    952\u001b[0m \u001b[0;34m\u001b[0m\u001b[0m\n",
            "\u001b[0;32m/usr/local/lib/python3.10/dist-packages/pandas/io/parsers/readers.py\u001b[0m in \u001b[0;36m_read\u001b[0;34m(filepath_or_buffer, kwds)\u001b[0m\n\u001b[1;32m    603\u001b[0m \u001b[0;34m\u001b[0m\u001b[0m\n\u001b[1;32m    604\u001b[0m     \u001b[0;31m# Create the parser.\u001b[0m\u001b[0;34m\u001b[0m\u001b[0;34m\u001b[0m\u001b[0m\n\u001b[0;32m--> 605\u001b[0;31m     \u001b[0mparser\u001b[0m \u001b[0;34m=\u001b[0m \u001b[0mTextFileReader\u001b[0m\u001b[0;34m(\u001b[0m\u001b[0mfilepath_or_buffer\u001b[0m\u001b[0;34m,\u001b[0m \u001b[0;34m**\u001b[0m\u001b[0mkwds\u001b[0m\u001b[0;34m)\u001b[0m\u001b[0;34m\u001b[0m\u001b[0;34m\u001b[0m\u001b[0m\n\u001b[0m\u001b[1;32m    606\u001b[0m \u001b[0;34m\u001b[0m\u001b[0m\n\u001b[1;32m    607\u001b[0m     \u001b[0;32mif\u001b[0m \u001b[0mchunksize\u001b[0m \u001b[0;32mor\u001b[0m \u001b[0miterator\u001b[0m\u001b[0;34m:\u001b[0m\u001b[0;34m\u001b[0m\u001b[0;34m\u001b[0m\u001b[0m\n",
            "\u001b[0;32m/usr/local/lib/python3.10/dist-packages/pandas/io/parsers/readers.py\u001b[0m in \u001b[0;36m__init__\u001b[0;34m(self, f, engine, **kwds)\u001b[0m\n\u001b[1;32m   1440\u001b[0m \u001b[0;34m\u001b[0m\u001b[0m\n\u001b[1;32m   1441\u001b[0m         \u001b[0mself\u001b[0m\u001b[0;34m.\u001b[0m\u001b[0mhandles\u001b[0m\u001b[0;34m:\u001b[0m \u001b[0mIOHandles\u001b[0m \u001b[0;34m|\u001b[0m \u001b[0;32mNone\u001b[0m \u001b[0;34m=\u001b[0m \u001b[0;32mNone\u001b[0m\u001b[0;34m\u001b[0m\u001b[0;34m\u001b[0m\u001b[0m\n\u001b[0;32m-> 1442\u001b[0;31m         \u001b[0mself\u001b[0m\u001b[0;34m.\u001b[0m\u001b[0m_engine\u001b[0m \u001b[0;34m=\u001b[0m \u001b[0mself\u001b[0m\u001b[0;34m.\u001b[0m\u001b[0m_make_engine\u001b[0m\u001b[0;34m(\u001b[0m\u001b[0mf\u001b[0m\u001b[0;34m,\u001b[0m \u001b[0mself\u001b[0m\u001b[0;34m.\u001b[0m\u001b[0mengine\u001b[0m\u001b[0;34m)\u001b[0m\u001b[0;34m\u001b[0m\u001b[0;34m\u001b[0m\u001b[0m\n\u001b[0m\u001b[1;32m   1443\u001b[0m \u001b[0;34m\u001b[0m\u001b[0m\n\u001b[1;32m   1444\u001b[0m     \u001b[0;32mdef\u001b[0m \u001b[0mclose\u001b[0m\u001b[0;34m(\u001b[0m\u001b[0mself\u001b[0m\u001b[0;34m)\u001b[0m \u001b[0;34m->\u001b[0m \u001b[0;32mNone\u001b[0m\u001b[0;34m:\u001b[0m\u001b[0;34m\u001b[0m\u001b[0;34m\u001b[0m\u001b[0m\n",
            "\u001b[0;32m/usr/local/lib/python3.10/dist-packages/pandas/io/parsers/readers.py\u001b[0m in \u001b[0;36m_make_engine\u001b[0;34m(self, f, engine)\u001b[0m\n\u001b[1;32m   1751\u001b[0m \u001b[0;34m\u001b[0m\u001b[0m\n\u001b[1;32m   1752\u001b[0m         \u001b[0;32mtry\u001b[0m\u001b[0;34m:\u001b[0m\u001b[0;34m\u001b[0m\u001b[0;34m\u001b[0m\u001b[0m\n\u001b[0;32m-> 1753\u001b[0;31m             \u001b[0;32mreturn\u001b[0m \u001b[0mmapping\u001b[0m\u001b[0;34m[\u001b[0m\u001b[0mengine\u001b[0m\u001b[0;34m]\u001b[0m\u001b[0;34m(\u001b[0m\u001b[0mf\u001b[0m\u001b[0;34m,\u001b[0m \u001b[0;34m**\u001b[0m\u001b[0mself\u001b[0m\u001b[0;34m.\u001b[0m\u001b[0moptions\u001b[0m\u001b[0;34m)\u001b[0m\u001b[0;34m\u001b[0m\u001b[0;34m\u001b[0m\u001b[0m\n\u001b[0m\u001b[1;32m   1754\u001b[0m         \u001b[0;32mexcept\u001b[0m \u001b[0mException\u001b[0m\u001b[0;34m:\u001b[0m\u001b[0;34m\u001b[0m\u001b[0;34m\u001b[0m\u001b[0m\n\u001b[1;32m   1755\u001b[0m             \u001b[0;32mif\u001b[0m \u001b[0mself\u001b[0m\u001b[0;34m.\u001b[0m\u001b[0mhandles\u001b[0m \u001b[0;32mis\u001b[0m \u001b[0;32mnot\u001b[0m \u001b[0;32mNone\u001b[0m\u001b[0;34m:\u001b[0m\u001b[0;34m\u001b[0m\u001b[0;34m\u001b[0m\u001b[0m\n",
            "\u001b[0;32m/usr/local/lib/python3.10/dist-packages/pandas/io/parsers/c_parser_wrapper.py\u001b[0m in \u001b[0;36m__init__\u001b[0;34m(self, src, **kwds)\u001b[0m\n\u001b[1;32m     77\u001b[0m \u001b[0;34m\u001b[0m\u001b[0m\n\u001b[1;32m     78\u001b[0m         \u001b[0mkwds\u001b[0m\u001b[0;34m[\u001b[0m\u001b[0;34m\"dtype\"\u001b[0m\u001b[0;34m]\u001b[0m \u001b[0;34m=\u001b[0m \u001b[0mensure_dtype_objs\u001b[0m\u001b[0;34m(\u001b[0m\u001b[0mkwds\u001b[0m\u001b[0;34m.\u001b[0m\u001b[0mget\u001b[0m\u001b[0;34m(\u001b[0m\u001b[0;34m\"dtype\"\u001b[0m\u001b[0;34m,\u001b[0m \u001b[0;32mNone\u001b[0m\u001b[0;34m)\u001b[0m\u001b[0;34m)\u001b[0m\u001b[0;34m\u001b[0m\u001b[0;34m\u001b[0m\u001b[0m\n\u001b[0;32m---> 79\u001b[0;31m         \u001b[0mself\u001b[0m\u001b[0;34m.\u001b[0m\u001b[0m_reader\u001b[0m \u001b[0;34m=\u001b[0m \u001b[0mparsers\u001b[0m\u001b[0;34m.\u001b[0m\u001b[0mTextReader\u001b[0m\u001b[0;34m(\u001b[0m\u001b[0msrc\u001b[0m\u001b[0;34m,\u001b[0m \u001b[0;34m**\u001b[0m\u001b[0mkwds\u001b[0m\u001b[0;34m)\u001b[0m\u001b[0;34m\u001b[0m\u001b[0;34m\u001b[0m\u001b[0m\n\u001b[0m\u001b[1;32m     80\u001b[0m \u001b[0;34m\u001b[0m\u001b[0m\n\u001b[1;32m     81\u001b[0m         \u001b[0mself\u001b[0m\u001b[0;34m.\u001b[0m\u001b[0munnamed_cols\u001b[0m \u001b[0;34m=\u001b[0m \u001b[0mself\u001b[0m\u001b[0;34m.\u001b[0m\u001b[0m_reader\u001b[0m\u001b[0;34m.\u001b[0m\u001b[0munnamed_cols\u001b[0m\u001b[0;34m\u001b[0m\u001b[0;34m\u001b[0m\u001b[0m\n",
            "\u001b[0;32m/usr/local/lib/python3.10/dist-packages/pandas/_libs/parsers.pyx\u001b[0m in \u001b[0;36mpandas._libs.parsers.TextReader.__cinit__\u001b[0;34m()\u001b[0m\n",
            "\u001b[0;32m/usr/local/lib/python3.10/dist-packages/pandas/_libs/parsers.pyx\u001b[0m in \u001b[0;36mpandas._libs.parsers.TextReader._get_header\u001b[0;34m()\u001b[0m\n",
            "\u001b[0;32m/usr/local/lib/python3.10/dist-packages/pandas/_libs/parsers.pyx\u001b[0m in \u001b[0;36mpandas._libs.parsers.TextReader._tokenize_rows\u001b[0;34m()\u001b[0m\n",
            "\u001b[0;32m/usr/local/lib/python3.10/dist-packages/pandas/_libs/parsers.pyx\u001b[0m in \u001b[0;36mpandas._libs.parsers.raise_parser_error\u001b[0;34m()\u001b[0m\n",
            "\u001b[0;31mUnicodeDecodeError\u001b[0m: 'utf-8' codec can't decode byte 0x80 in position 0: invalid start byte"
          ]
        }
      ]
    },
    {
      "cell_type": "markdown",
      "source": [
        "# IMAGE FILTERING"
      ],
      "metadata": {
        "id": "YHqjqfRMSITj"
      }
    },
    {
      "cell_type": "code",
      "source": [
        "df=pd.read_pickle(\"/content/drive/MyDrive/Breast_Cancer/ENQUETE_2\")\n",
        "df.shape\n"
      ],
      "metadata": {
        "colab": {
          "base_uri": "https://localhost:8080/"
        },
        "id": "FgLnhN8jgyPY",
        "outputId": "99f728cd-4323-4104-bdec-283222e71e9e"
      },
      "execution_count": 41,
      "outputs": [
        {
          "output_type": "execute_result",
          "data": {
            "text/plain": [
              "(930, 2)"
            ]
          },
          "metadata": {},
          "execution_count": 41
        }
      ]
    },
    {
      "cell_type": "code",
      "source": [
        "name_2 = df['ID_PATIENT']\n",
        "#name_2=[str(x) for x in name_2]\n",
        "name_2=['patient_'+ str(x) + '.csv' for x in name_2]\n",
        "diff = set(name_2).difference(names)\n",
        "diff\n"
      ],
      "metadata": {
        "id": "IeFP0PUXRv8q",
        "colab": {
          "base_uri": "https://localhost:8080/"
        },
        "outputId": "f775c26c-ba27-4917-a8af-7a3ff5ef80d4"
      },
      "execution_count": 42,
      "outputs": [
        {
          "output_type": "execute_result",
          "data": {
            "text/plain": [
              "{'patient_1202100561.csv',\n",
              " 'patient_1203400338.csv',\n",
              " 'patient_3104001255.csv',\n",
              " 'patient_3205200883.csv',\n",
              " 'patient_4302701883.csv'}"
            ]
          },
          "metadata": {},
          "execution_count": 42
        }
      ]
    },
    {
      "cell_type": "markdown",
      "source": [
        "  Patients missing in images\n",
        "\n",
        "1. patient_1202100561.csv',\n",
        "2. patient_1203400338.csv',\n",
        "3. patient_3104001255.csv\n",
        "4. patient_3205200883.csv\n",
        "5. patient_4302701883.csv\n",
        "\n"
      ],
      "metadata": {
        "id": "XbOsCM1wu1Kv"
      }
    },
    {
      "cell_type": "code",
      "source": [
        "from numpy.core.fromnumeric import shape\n",
        "remove=['patient_1202100561.csv','patient_1203400338.csv','patient_3104001255.csv','patient_3205200883.csv','patient_4302701883.csv']\n",
        "index = [321,332,601,744,910]\n",
        "labels=df.drop(index = index)\n",
        "print(labels.shape)\n",
        "labels.to_csv('label.csv', index=0)\n",
        "\n",
        "\n",
        "\n"
      ],
      "metadata": {
        "colab": {
          "base_uri": "https://localhost:8080/"
        },
        "id": "n2sDEcQi4N8i",
        "outputId": "dd1cb3a2-c17d-4109-a3d2-1607bd056765"
      },
      "execution_count": 44,
      "outputs": [
        {
          "output_type": "stream",
          "name": "stdout",
          "text": [
            "(925, 2)\n"
          ]
        }
      ]
    },
    {
      "cell_type": "markdown",
      "source": [
        "# TRAIN TEST SPLIT"
      ],
      "metadata": {
        "id": "PIddY2gfMzjx"
      }
    },
    {
      "cell_type": "code",
      "source": [
        "img_folder='/content/drive/MyDrive/Breast_Cancer/DATA_BREAST_CANCER_FINAL'\n",
        "images = [cv2.imread(file, cv2.IMREAD_GRAYSCALE) for file in glob.glob('/content/drive/MyDrive/Breast_Cancer/DATA_BREAST_CANCER_FINAL/*.png')]\n",
        "print(len(images))\n",
        "images[1]"
      ],
      "metadata": {
        "colab": {
          "base_uri": "https://localhost:8080/"
        },
        "id": "V0XOqTUG2QRx",
        "outputId": "9db0f4c9-6aa4-4b47-804b-e2e26eb40bea"
      },
      "execution_count": 19,
      "outputs": [
        {
          "output_type": "stream",
          "name": "stdout",
          "text": [
            "925\n"
          ]
        },
        {
          "output_type": "execute_result",
          "data": {
            "text/plain": [
              "array([[0, 0, 0, ..., 0, 0, 0],\n",
              "       [1, 0, 0, ..., 0, 0, 0],\n",
              "       [0, 0, 0, ..., 0, 0, 0],\n",
              "       ...,\n",
              "       [0, 0, 0, ..., 0, 0, 0],\n",
              "       [0, 0, 0, ..., 0, 0, 0],\n",
              "       [0, 0, 0, ..., 0, 0, 0]], dtype=uint8)"
            ]
          },
          "metadata": {},
          "execution_count": 19
        }
      ]
    },
    {
      "cell_type": "code",
      "source": [
        "labels=pd.read_csv('/content/drive/MyDrive/Breast_Cancer/label.csv')\n",
        "label=labels['peur_recidive1']\n",
        "len(label)\n"
      ],
      "metadata": {
        "colab": {
          "base_uri": "https://localhost:8080/"
        },
        "id": "UIqui0anhuvT",
        "outputId": "57d85fb4-922a-433b-ca78-c88fd0a29abf"
      },
      "execution_count": 20,
      "outputs": [
        {
          "output_type": "execute_result",
          "data": {
            "text/plain": [
              "925"
            ]
          },
          "metadata": {},
          "execution_count": 20
        }
      ]
    },
    {
      "cell_type": "code",
      "source": [
        "from numpy import asarray\n",
        "from sklearn.preprocessing import OneHotEncoder\n",
        "# define one hot encoding\n",
        "\n",
        "ncoder = OneHotEncoder(sparse=False)\n",
        "# transform data\n",
        "label=label.to_numpy()\n",
        "label=label.reshape(-1,1)\n",
        "onehot = ncoder.fit_transform(label)\n",
        "print(len(onehot))\n"
      ],
      "metadata": {
        "colab": {
          "base_uri": "https://localhost:8080/"
        },
        "id": "XuVhg93oMzOq",
        "outputId": "843a67ad-632f-4fbd-f4e4-e77eac0e3e7f"
      },
      "execution_count": 21,
      "outputs": [
        {
          "output_type": "stream",
          "name": "stdout",
          "text": [
            "925\n"
          ]
        },
        {
          "output_type": "stream",
          "name": "stderr",
          "text": [
            "/usr/local/lib/python3.10/dist-packages/sklearn/preprocessing/_encoders.py:868: FutureWarning: `sparse` was renamed to `sparse_output` in version 1.2 and will be removed in 1.4. `sparse_output` is ignored unless you leave `sparse` to its default value.\n",
            "  warnings.warn(\n"
          ]
        }
      ]
    },
    {
      "cell_type": "code",
      "source": [
        "from sklearn.model_selection import train_test_split\n",
        "X_train, X_test, y_train, y_test = train_test_split(images, onehot, test_size=0.2, random_state=42)"
      ],
      "metadata": {
        "id": "S22bmFPm5ng2"
      },
      "execution_count": 10,
      "outputs": []
    },
    {
      "cell_type": "code",
      "source": [
        "x_train = np.reshape(X_train, (len(X_train), 100, 8058))\n",
        "x_test = np.reshape(X_test, (len(X_test), 100, 8058))\n"
      ],
      "metadata": {
        "id": "tnlmYmWeUWru"
      },
      "execution_count": 11,
      "outputs": []
    },
    {
      "cell_type": "code",
      "source": [
        "x_train.shape"
      ],
      "metadata": {
        "colab": {
          "base_uri": "https://localhost:8080/"
        },
        "id": "f8vI3OfTUwRO",
        "outputId": "7841ebe8-62b4-419b-92e4-da531a88ab3d"
      },
      "execution_count": 12,
      "outputs": [
        {
          "output_type": "execute_result",
          "data": {
            "text/plain": [
              "(740, 100, 8058)"
            ]
          },
          "metadata": {},
          "execution_count": 12
        }
      ]
    },
    {
      "cell_type": "markdown",
      "source": [
        "# CNN + Extract featurs"
      ],
      "metadata": {
        "id": "ug1FJk9T_Lwg"
      }
    },
    {
      "cell_type": "markdown",
      "source": [],
      "metadata": {
        "id": "WmHdniT_NsNs"
      }
    },
    {
      "cell_type": "code",
      "source": [
        "from keras.layers.serialization import activation\n",
        "input_img = keras.Input(shape=(100,8058))\n",
        "x = layers.Conv1D(16, 1, activation='relu', padding='same')(input_img)\n",
        "x = layers.MaxPooling1D(2, padding='same')(x)\n",
        "x = layers.Conv1D(8, 1, activation='relu', padding='same')(x)\n",
        "x = layers.MaxPooling1D(2, padding='same')(x)\n",
        "x = layers.Conv1D(4, 1, activation='relu', padding='same')(x)\n",
        "x = layers.MaxPooling1D(2, padding='same')(x)\n",
        "x = layers.Conv1D(2, 1, activation='relu', padding='same')(x)\n",
        "\n",
        "x = layers.MaxPooling1D(2, padding='same')(x)\n",
        "flat=layers.Flatten()(x)\n",
        "encoded= layers.Dense(3, activation='softmax')(flat)\n",
        "\n",
        "\n"
      ],
      "metadata": {
        "id": "uoe3MMQ6U0Na"
      },
      "execution_count": 13,
      "outputs": []
    },
    {
      "cell_type": "code",
      "source": [
        "cnn_model = keras.Model(input_img, encoded)\n",
        "cnn_model.summary()\n",
        "cnn_model.compile(optimizer='adam', loss='categorical_crossentropy')"
      ],
      "metadata": {
        "colab": {
          "base_uri": "https://localhost:8080/"
        },
        "id": "feng6gsdVylB",
        "outputId": "283ebb8b-ca37-4b04-c1e4-ca103691c908"
      },
      "execution_count": 14,
      "outputs": [
        {
          "output_type": "stream",
          "name": "stdout",
          "text": [
            "Model: \"model\"\n",
            "_________________________________________________________________\n",
            " Layer (type)                Output Shape              Param #   \n",
            "=================================================================\n",
            " input_1 (InputLayer)        [(None, 100, 8058)]       0         \n",
            "                                                                 \n",
            " conv1d (Conv1D)             (None, 100, 16)           128944    \n",
            "                                                                 \n",
            " max_pooling1d (MaxPooling1D  (None, 50, 16)           0         \n",
            " )                                                               \n",
            "                                                                 \n",
            " conv1d_1 (Conv1D)           (None, 50, 8)             136       \n",
            "                                                                 \n",
            " max_pooling1d_1 (MaxPooling  (None, 25, 8)            0         \n",
            " 1D)                                                             \n",
            "                                                                 \n",
            " conv1d_2 (Conv1D)           (None, 25, 4)             36        \n",
            "                                                                 \n",
            " max_pooling1d_2 (MaxPooling  (None, 13, 4)            0         \n",
            " 1D)                                                             \n",
            "                                                                 \n",
            " conv1d_3 (Conv1D)           (None, 13, 2)             10        \n",
            "                                                                 \n",
            " max_pooling1d_3 (MaxPooling  (None, 7, 2)             0         \n",
            " 1D)                                                             \n",
            "                                                                 \n",
            " flatten (Flatten)           (None, 14)                0         \n",
            "                                                                 \n",
            " dense (Dense)               (None, 3)                 45        \n",
            "                                                                 \n",
            "=================================================================\n",
            "Total params: 129,171\n",
            "Trainable params: 129,171\n",
            "Non-trainable params: 0\n",
            "_________________________________________________________________\n"
          ]
        }
      ]
    },
    {
      "cell_type": "code",
      "source": [
        "history=cnn_model.fit(x_train,y_train, epochs= 10,batch_size=32,\n",
        "                validation_data=[x_test, y_test])\n",
        "print(history.history.keys())\n",
        "\n",
        "\n"
      ],
      "metadata": {
        "colab": {
          "base_uri": "https://localhost:8080/"
        },
        "id": "LSPilnogWcDP",
        "outputId": "b8ff0e73-8a4f-4e47-8598-be117157b3ce"
      },
      "execution_count": 15,
      "outputs": [
        {
          "output_type": "stream",
          "name": "stdout",
          "text": [
            "Epoch 1/10\n",
            "24/24 [==============================] - 6s 205ms/step - loss: 1.0884 - val_loss: 1.0739\n",
            "Epoch 2/10\n",
            "24/24 [==============================] - 6s 266ms/step - loss: 0.9767 - val_loss: 1.0781\n",
            "Epoch 3/10\n",
            "24/24 [==============================] - 5s 200ms/step - loss: 0.8543 - val_loss: 1.1182\n",
            "Epoch 4/10\n",
            "24/24 [==============================] - 5s 210ms/step - loss: 0.6966 - val_loss: 1.1600\n",
            "Epoch 5/10\n",
            "24/24 [==============================] - 6s 242ms/step - loss: 0.5256 - val_loss: 1.2175\n",
            "Epoch 6/10\n",
            "24/24 [==============================] - 5s 193ms/step - loss: 0.3800 - val_loss: 1.3625\n",
            "Epoch 7/10\n",
            "24/24 [==============================] - 6s 248ms/step - loss: 0.2483 - val_loss: 1.5130\n",
            "Epoch 8/10\n",
            "24/24 [==============================] - 5s 209ms/step - loss: 0.1458 - val_loss: 1.7395\n",
            "Epoch 9/10\n",
            "24/24 [==============================] - 5s 193ms/step - loss: 0.0835 - val_loss: 1.9422\n",
            "Epoch 10/10\n",
            "24/24 [==============================] - 6s 260ms/step - loss: 0.0491 - val_loss: 2.1008\n",
            "dict_keys(['loss', 'val_loss'])\n"
          ]
        }
      ]
    },
    {
      "cell_type": "code",
      "source": [
        "plt.plot(history.history['loss'])\n",
        "plt.plot(history.history['val_loss'])\n",
        "plt.title('model loss')\n",
        "plt.ylabel('loss')\n",
        "plt.xlabel('epoch')\n",
        "plt.legend(['loss', 'val_loss'], loc='upper left')\n",
        "plt.show()"
      ],
      "metadata": {
        "id": "1s4OvIU6jHdZ",
        "colab": {
          "base_uri": "https://localhost:8080/",
          "height": 472
        },
        "outputId": "4510b7b4-3121-4f05-edb8-4eb5682b0867"
      },
      "execution_count": 16,
      "outputs": [
        {
          "output_type": "display_data",
          "data": {
            "text/plain": [
              "<Figure size 640x480 with 1 Axes>"
            ],
            "image/png": "[encoded data removed]"
          },
          "metadata": {}
        }
      ]
    },
    {
      "cell_type": "markdown",
      "source": [
        "Shallow CNN"
      ],
      "metadata": {
        "id": "HiURN4qHJ0o6"
      }
    },
    {
      "cell_type": "code",
      "source": [
        "import tensorflow as tf\n",
        "from keras.callbacks import ModelCheckpoint, EarlyStopping\n",
        "\n",
        "callback = tf.keras.callbacks.EarlyStopping(monitor='val_loss', patience=3)\n",
        "model = tf.keras.models.Sequential([\n",
        "    tf.keras.layers.Conv1D(filters= 16, kernel_size= 1, activation='relu', input_shape=(100,8058)),\n",
        "    tf.keras.layers.MaxPooling1D(pool_size=1),\n",
        "    tf.keras.layers.Flatten(),\n",
        "    tf.keras.layers.Dense(32, activation='relu'),\n",
        "    tf.keras.layers.Dense(3, activation='softmax')\n",
        "])\n",
        "model.compile(optimizer='adam', loss='categorical_crossentropy', metrics=['accuracy'])\n",
        "model.summary()\n",
        "\n",
        "\n"
      ],
      "metadata": {
        "colab": {
          "base_uri": "https://localhost:8080/"
        },
        "id": "WPADVW_pJ0UU",
        "outputId": "9e66cc36-d67c-4bfb-a3ca-c9f2a47aeada"
      },
      "execution_count": 50,
      "outputs": [
        {
          "output_type": "stream",
          "name": "stdout",
          "text": [
            "Model: \"sequential_7\"\n",
            "_________________________________________________________________\n",
            " Layer (type)                Output Shape              Param #   \n",
            "=================================================================\n",
            " conv1d_11 (Conv1D)          (None, 100, 16)           128944    \n",
            "                                                                 \n",
            " max_pooling1d_11 (MaxPoolin  (None, 100, 16)          0         \n",
            " g1D)                                                            \n",
            "                                                                 \n",
            " flatten_8 (Flatten)         (None, 1600)              0         \n",
            "                                                                 \n",
            " dense_15 (Dense)            (None, 32)                51232     \n",
            "                                                                 \n",
            " dense_16 (Dense)            (None, 3)                 99        \n",
            "                                                                 \n",
            "=================================================================\n",
            "Total params: 180,275\n",
            "Trainable params: 180,275\n",
            "Non-trainable params: 0\n",
            "_________________________________________________________________\n"
          ]
        }
      ]
    },
    {
      "cell_type": "code",
      "source": [
        "history=model.fit(x_train,y_train, epochs= 10,batch_size=4,\n",
        "                validation_data=[x_test, y_test], callbacks=[callback])\n",
        "print(history.history.keys())"
      ],
      "metadata": {
        "colab": {
          "base_uri": "https://localhost:8080/"
        },
        "id": "Oc5jy7kJXFeR",
        "outputId": "79b57565-3d22-4050-f6cb-ca393d513076"
      },
      "execution_count": 51,
      "outputs": [
        {
          "output_type": "stream",
          "name": "stdout",
          "text": [
            "Epoch 1/10\n",
            "185/185 [==============================] - 8s 38ms/step - loss: 1.0566 - accuracy: 0.4446 - val_loss: 1.1093 - val_accuracy: 0.3189\n",
            "Epoch 2/10\n",
            "185/185 [==============================] - 5s 29ms/step - loss: 0.7995 - accuracy: 0.6270 - val_loss: 1.3192 - val_accuracy: 0.4000\n",
            "Epoch 3/10\n",
            "185/185 [==============================] - 7s 36ms/step - loss: 0.2238 - accuracy: 0.9527 - val_loss: 1.8353 - val_accuracy: 0.3784\n",
            "Epoch 4/10\n",
            "185/185 [==============================] - 6s 30ms/step - loss: 0.0400 - accuracy: 0.9973 - val_loss: 1.9481 - val_accuracy: 0.3622\n",
            "dict_keys(['loss', 'accuracy', 'val_loss', 'val_accuracy'])\n"
          ]
        }
      ]
    },
    {
      "cell_type": "code",
      "source": [
        "plt.plot(history.history['loss'])\n",
        "plt.plot(history.history['val_loss'])\n",
        "plt.title('model loss')\n",
        "plt.ylabel('loss')\n",
        "plt.xlabel('epoch')\n",
        "plt.legend(['loss', 'val_loss'], loc='upper left')\n",
        "plt.show()"
      ],
      "metadata": {
        "colab": {
          "base_uri": "https://localhost:8080/",
          "height": 472
        },
        "id": "hNDbe8iyYtmu",
        "outputId": "d3ff56ad-c534-4380-99e5-e1554dd4bb68"
      },
      "execution_count": 52,
      "outputs": [
        {
          "output_type": "display_data",
          "data": {
            "text/plain": [
              "<Figure size 640x480 with 1 Axes>"
            ],
            "image/png": "[encoded data removed]"
          },
          "metadata": {}
        }
      ]
    },
    {
      "cell_type": "markdown",
      "source": [
        "# AutoEncoder CNN"
      ],
      "metadata": {
        "id": "7hVAGEj9_jeh"
      }
    },
    {
      "cell_type": "markdown",
      "source": [
        "Model of AutoCNN"
      ],
      "metadata": {
        "id": "KR3emMqqOjfR"
      }
    },
    {
      "cell_type": "code",
      "source": [
        "from keras.layers.serialization import activation\n",
        "input_img = keras.Input(shape=(100,8058)) # input layer\n",
        "x = layers.Conv1D(16, 1, activation='relu', padding='same')(input_img)\n",
        "# 16 --> number of filter:16 types of features  , 1 --> size of filters , porer layer er ftr dimension == no. of features--> (None, 100, 16)\n",
        "# 100 time karon 1 d nichi ofc kombe na eta\n",
        "from sklearn.preprocessing import OneHotEncoder\n",
        "# define one hot encoding\n",
        "#ncoder = OneHotEncoder(sparse=False)\n",
        "# why do we do onw hot encoding , to represent the presence of all the classes in each label ,  and to show what we chose\n",
        "#onehot = ncoder.fit_transform(p)\n",
        "x = layers.MaxPooling1D(2, padding='same')(x)\n",
        "#after max pooling divide the feature space by 2 hence having --> (None, 50, 16)---> maxpooling ---> learnt feature gulo komiye dichi\n",
        "x = layers.Conv1D(8, 1, activation='relu', padding='same')(x) # 1D bole eta one\n",
        "x = layers.MaxPooling1D(2, padding='same')(x)\n",
        "# drop out jodi lagey\n",
        "x = layers.Conv1D(4, 1, activation='relu', padding='same')(x)\n",
        "x = layers.MaxPooling1D(2, padding='same')(x)\n",
        "x = layers.Conv1D(2, 1, activation='relu', padding='same')(x)\n",
        "\n",
        "x = layers.MaxPooling1D(2, padding='same')(x)\n",
        "flat=layers.Flatten()(x)\n",
        "\n",
        "\n",
        "\n",
        "\n",
        "\n",
        "\n",
        "dense=layers.Dense(14, activation='relu')(flat)\n",
        "x=layers.Reshape((7,2))(dense)\n",
        "x = layers.Conv1D(2, 1, activation='relu', padding='same')(x)\n",
        "x = layers.UpSampling1D((2))(x)\n",
        "x = layers.Conv1D(4, 1, activation='relu', padding='same')(x)\n",
        "x = layers.UpSampling1D(2)(x)\n",
        "x = layers.Conv1D(8, 1, activation='relu', padding='same')(x)\n",
        "x = layers.UpSampling1D(2)(x)\n",
        "x = layers.Conv1D(16, 1, activation='relu',padding='same')(x)\n",
        "x = layers.UpSampling1D(2)(x)\n",
        "x = layers.Conv1D(1,1,  activation='sigmoid', padding='same')(x)\n",
        "decoded= layers.Cropping1D(cropping=(12, 0))(x)\n"
      ],
      "metadata": {
        "id": "A7pPIGCC_SZA"
      },
      "execution_count": 57,
      "outputs": []
    },
    {
      "cell_type": "code",
      "source": [
        "autoencoder = keras.Model(input_img, decoded)\n",
        "autoencoder.summary()\n",
        "autoencoder.compile(optimizer='adam', loss='mean_squared_error')"
      ],
      "metadata": {
        "colab": {
          "base_uri": "https://localhost:8080/"
        },
        "id": "g_Ohdj6GOrSS",
        "outputId": "9de8c021-4de0-43b0-98b2-f25337577aa0"
      },
      "execution_count": 58,
      "outputs": [
        {
          "output_type": "stream",
          "name": "stdout",
          "text": [
            "Model: \"model_1\"\n",
            "_________________________________________________________________\n",
            " Layer (type)                Output Shape              Param #   \n",
            "=================================================================\n",
            " input_2 (InputLayer)        [(None, 100, 8058)]       0         \n",
            "                                                                 \n",
            " conv1d_9 (Conv1D)           (None, 100, 16)           128944    \n",
            "                                                                 \n",
            " max_pooling1d_4 (MaxPooling  (None, 50, 16)           0         \n",
            " 1D)                                                             \n",
            "                                                                 \n",
            " conv1d_10 (Conv1D)          (None, 50, 8)             136       \n",
            "                                                                 \n",
            " max_pooling1d_5 (MaxPooling  (None, 25, 8)            0         \n",
            " 1D)                                                             \n",
            "                                                                 \n",
            " conv1d_11 (Conv1D)          (None, 25, 4)             36        \n",
            "                                                                 \n",
            " max_pooling1d_6 (MaxPooling  (None, 13, 4)            0         \n",
            " 1D)                                                             \n",
            "                                                                 \n",
            " conv1d_12 (Conv1D)          (None, 13, 2)             10        \n",
            "                                                                 \n",
            " max_pooling1d_7 (MaxPooling  (None, 7, 2)             0         \n",
            " 1D)                                                             \n",
            "                                                                 \n",
            " flatten_1 (Flatten)         (None, 14)                0         \n",
            "                                                                 \n",
            " dense_1 (Dense)             (None, 14)                210       \n",
            "                                                                 \n",
            " reshape_1 (Reshape)         (None, 7, 2)              0         \n",
            "                                                                 \n",
            " conv1d_13 (Conv1D)          (None, 7, 2)              6         \n",
            "                                                                 \n",
            " up_sampling1d_4 (UpSampling  (None, 14, 2)            0         \n",
            " 1D)                                                             \n",
            "                                                                 \n",
            " conv1d_14 (Conv1D)          (None, 14, 4)             12        \n",
            "                                                                 \n",
            " up_sampling1d_5 (UpSampling  (None, 28, 4)            0         \n",
            " 1D)                                                             \n",
            "                                                                 \n",
            " conv1d_15 (Conv1D)          (None, 28, 8)             40        \n",
            "                                                                 \n",
            " up_sampling1d_6 (UpSampling  (None, 56, 8)            0         \n",
            " 1D)                                                             \n",
            "                                                                 \n",
            " conv1d_16 (Conv1D)          (None, 56, 16)            144       \n",
            "                                                                 \n",
            " up_sampling1d_7 (UpSampling  (None, 112, 16)          0         \n",
            " 1D)                                                             \n",
            "                                                                 \n",
            " conv1d_17 (Conv1D)          (None, 112, 1)            17        \n",
            "                                                                 \n",
            " cropping1d_1 (Cropping1D)   (None, 100, 1)            0         \n",
            "                                                                 \n",
            "=================================================================\n",
            "Total params: 129,555\n",
            "Trainable params: 129,555\n",
            "Non-trainable params: 0\n",
            "_________________________________________________________________\n"
          ]
        }
      ]
    },
    {
      "cell_type": "code",
      "source": [
        "trained_autoencoder = autoencoder.fit(x_train,x_train, epochs= 10,batch_size=16,\n",
        "                validation_data=[x_test, x_test])\n",
        "print(trained_autoencoder.history.keys())"
      ],
      "metadata": {
        "colab": {
          "base_uri": "https://localhost:8080/"
        },
        "id": "FVFH6vm3Or8A",
        "outputId": "bf5df978-6426-478c-ba79-138dbe64c63b"
      },
      "execution_count": 59,
      "outputs": [
        {
          "output_type": "stream",
          "name": "stdout",
          "text": [
            "Epoch 1/10\n",
            "47/47 [==============================] - 18s 300ms/step - loss: 0.2529 - val_loss: 0.2426\n",
            "Epoch 2/10\n",
            "47/47 [==============================] - 12s 254ms/step - loss: 0.2305 - val_loss: 0.2180\n",
            "Epoch 3/10\n",
            "47/47 [==============================] - 12s 262ms/step - loss: 0.2040 - val_loss: 0.1897\n",
            "Epoch 4/10\n",
            "47/47 [==============================] - 13s 282ms/step - loss: 0.1749 - val_loss: 0.1601\n",
            "Epoch 5/10\n",
            "47/47 [==============================] - 12s 265ms/step - loss: 0.1456 - val_loss: 0.1317\n",
            "Epoch 6/10\n",
            "47/47 [==============================] - 12s 263ms/step - loss: 0.1185 - val_loss: 0.1065\n",
            "Epoch 7/10\n",
            "47/47 [==============================] - 12s 263ms/step - loss: 0.0954 - val_loss: 0.0857\n",
            "Epoch 8/10\n",
            "47/47 [==============================] - 12s 261ms/step - loss: 0.0768 - val_loss: 0.0693\n",
            "Epoch 9/10\n",
            "47/47 [==============================] - 13s 281ms/step - loss: 0.0624 - val_loss: 0.0569\n",
            "Epoch 10/10\n",
            "47/47 [==============================] - 12s 261ms/step - loss: 0.0515 - val_loss: 0.0476\n",
            "dict_keys(['loss', 'val_loss'])\n"
          ]
        }
      ]
    },
    {
      "cell_type": "code",
      "source": [
        "plt.plot(trained_autoencoder.history['loss'])\n",
        "plt.plot(trained_autoencoder.history['val_loss'])\n",
        "plt.title('model loss')\n",
        "plt.ylabel('loss')\n",
        "plt.xlabel('epoch')\n",
        "plt.legend(['loss', 'val_loss'], loc='upper left')\n",
        "plt.show()"
      ],
      "metadata": {
        "id": "RWZ0l0CARiP4",
        "outputId": "4654c519-ad49-4cc9-8684-6ee1ba1b463d",
        "colab": {
          "base_uri": "https://localhost:8080/",
          "height": 472
        }
      },
      "execution_count": 60,
      "outputs": [
        {
          "output_type": "display_data",
          "data": {
            "text/plain": [
              "<Figure size 640x480 with 1 Axes>"
            ],
            "image/png": "[encoded data removed]"
          },
          "metadata": {}
        }
      ]
    },
    {
      "cell_type": "markdown",
      "source": [
        "Encoded space"
      ],
      "metadata": {
        "id": "Tgi8PZYdqNgc"
      }
    },
    {
      "cell_type": "code",
      "source": [
        "encoder = keras.Model(input_img, dense)\n",
        "encoder.summary()\n"
      ],
      "metadata": {
        "colab": {
          "base_uri": "https://localhost:8080/"
        },
        "id": "gFn5kA3nX_Jm",
        "outputId": "9784e8d6-2937-4b11-c4c1-a3c617400756"
      },
      "execution_count": 61,
      "outputs": [
        {
          "output_type": "stream",
          "name": "stdout",
          "text": [
            "Model: \"model_2\"\n",
            "_________________________________________________________________\n",
            " Layer (type)                Output Shape              Param #   \n",
            "=================================================================\n",
            " input_2 (InputLayer)        [(None, 100, 8058)]       0         \n",
            "                                                                 \n",
            " conv1d_9 (Conv1D)           (None, 100, 16)           128944    \n",
            "                                                                 \n",
            " max_pooling1d_4 (MaxPooling  (None, 50, 16)           0         \n",
            " 1D)                                                             \n",
            "                                                                 \n",
            " conv1d_10 (Conv1D)          (None, 50, 8)             136       \n",
            "                                                                 \n",
            " max_pooling1d_5 (MaxPooling  (None, 25, 8)            0         \n",
            " 1D)                                                             \n",
            "                                                                 \n",
            " conv1d_11 (Conv1D)          (None, 25, 4)             36        \n",
            "                                                                 \n",
            " max_pooling1d_6 (MaxPooling  (None, 13, 4)            0         \n",
            " 1D)                                                             \n",
            "                                                                 \n",
            " conv1d_12 (Conv1D)          (None, 13, 2)             10        \n",
            "                                                                 \n",
            " max_pooling1d_7 (MaxPooling  (None, 7, 2)             0         \n",
            " 1D)                                                             \n",
            "                                                                 \n",
            " flatten_1 (Flatten)         (None, 14)                0         \n",
            "                                                                 \n",
            " dense_1 (Dense)             (None, 14)                210       \n",
            "                                                                 \n",
            "=================================================================\n",
            "Total params: 129,336\n",
            "Trainable params: 129,336\n",
            "Non-trainable params: 0\n",
            "_________________________________________________________________\n"
          ]
        }
      ]
    },
    {
      "cell_type": "code",
      "source": [
        "encoded_imgs = encoder.predict(x_test)"
      ],
      "metadata": {
        "colab": {
          "base_uri": "https://localhost:8080/"
        },
        "id": "7rQF1-B1FwT-",
        "outputId": "f5782266-a61c-457c-8b63-5ec3e9742ccf"
      },
      "execution_count": 62,
      "outputs": [
        {
          "output_type": "stream",
          "name": "stdout",
          "text": [
            "6/6 [==============================] - 1s 112ms/step\n"
          ]
        }
      ]
    },
    {
      "cell_type": "code",
      "source": [
        "plt.plot(encoded_imgs[0])"
      ],
      "metadata": {
        "colab": {
          "base_uri": "https://localhost:8080/",
          "height": 448
        },
        "id": "IDzoTluYG5sy",
        "outputId": "72977a73-e55b-404d-8353-a9ad69d76f73"
      },
      "execution_count": 63,
      "outputs": [
        {
          "output_type": "execute_result",
          "data": {
            "text/plain": [
              "[<matplotlib.lines.Line2D at 0x7f241d4c46d0>]"
            ]
          },
          "metadata": {},
          "execution_count": 63
        },
        {
          "output_type": "display_data",
          "data": {
            "text/plain": [
              "<Figure size 640x480 with 1 Axes>"
            ],
            "image/png": "[encoded data removed]"
          },
          "metadata": {}
        }
      ]
    },
    {
      "cell_type": "markdown",
      "source": [
        "Trying other models"
      ],
      "metadata": {
        "id": "26AdNR3YM5ZH"
      }
    },
    {
      "cell_type": "code",
      "source": [
        "lastbutone=keras.Model(input_img, dense)"
      ],
      "metadata": {
        "id": "2k46inw8IX1D"
      },
      "execution_count": 64,
      "outputs": []
    },
    {
      "cell_type": "code",
      "source": [
        "deep_features = lastbutone.predict(x_train) # x_train"
      ],
      "metadata": {
        "colab": {
          "base_uri": "https://localhost:8080/"
        },
        "id": "WOWvTFQNNKGi",
        "outputId": "dd473024-5a7c-4925-bd60-5d9d2de968b2"
      },
      "execution_count": 65,
      "outputs": [
        {
          "output_type": "stream",
          "name": "stdout",
          "text": [
            "24/24 [==============================] - 3s 100ms/step\n"
          ]
        }
      ]
    },
    {
      "cell_type": "code",
      "source": [
        "deep_features_test = lastbutone.predict(x_test)\n",
        "deep_features_test.shape"
      ],
      "metadata": {
        "colab": {
          "base_uri": "https://localhost:8080/"
        },
        "id": "I7z6jsLLYSE9",
        "outputId": "ba035b70-5afd-4834-f192-51b975f2528d"
      },
      "execution_count": 89,
      "outputs": [
        {
          "output_type": "stream",
          "name": "stdout",
          "text": [
            "6/6 [==============================] - 2s 292ms/step\n"
          ]
        },
        {
          "output_type": "execute_result",
          "data": {
            "text/plain": [
              "(185, 14)"
            ]
          },
          "metadata": {},
          "execution_count": 89
        }
      ]
    },
    {
      "cell_type": "markdown",
      "source": [
        "Random Forest with cv =5"
      ],
      "metadata": {
        "id": "Fwela623qDoI"
      }
    },
    {
      "cell_type": "code",
      "source": [
        "from sklearn.ensemble import RandomForestClassifier\n",
        "from sklearn.model_selection import cross_val_score\n",
        "#rf = RandomForestClassifier(n_estimators=5,max_depth=20)\n",
        "#'max_depth': 20, 'min_samples_leaf': 5, 'n_estimators': 10}\n",
        "clf = RandomForestClassifier(n_estimators = 10, max_depth = 20 , min_samples_leaf=5).fit(deep_features, y_train)\n",
        "clf.fit(deep_features,y_train)\n"
      ],
      "metadata": {
        "colab": {
          "base_uri": "https://localhost:8080/",
          "height": 74
        },
        "id": "f7G_VJ1nTcoV",
        "outputId": "f47eb9a8-253d-4fa7-9b9c-88b26ad5b3c4"
      },
      "execution_count": 114,
      "outputs": [
        {
          "output_type": "execute_result",
          "data": {
            "text/plain": [
              "RandomForestClassifier(max_depth=20, min_samples_leaf=5, n_estimators=10)"
            ],
            "text/html": [
              "<style>#sk-container-id-8 {color: black;background-color: white;}#sk-container-id-8 pre{padding: 0;}#sk-container-id-8 div.sk-toggleable {background-color: white;}#sk-container-id-8 label.sk-toggleable__label {cursor: pointer;display: block;width: 100%;margin-bottom: 0;padding: 0.3em;box-sizing: border-box;text-align: center;}#sk-container-id-8 label.sk-toggleable__label-arrow:before {content: \"▸\";float: left;margin-right: 0.25em;color: #696969;}#sk-container-id-8 label.sk-toggleable__label-arrow:hover:before {color: black;}#sk-container-id-8 div.sk-estimator:hover label.sk-toggleable__label-arrow:before {color: black;}#sk-container-id-8 div.sk-toggleable__content {max-height: 0;max-width: 0;overflow: hidden;text-align: left;background-color: #f0f8ff;}#sk-container-id-8 div.sk-toggleable__content pre {margin: 0.2em;color: black;border-radius: 0.25em;background-color: #f0f8ff;}#sk-container-id-8 input.sk-toggleable__control:checked~div.sk-toggleable__content {max-height: 200px;max-width: 100%;overflow: auto;}#sk-container-id-8 input.sk-toggleable__control:checked~label.sk-toggleable__label-arrow:before {content: \"▾\";}#sk-container-id-8 div.sk-estimator input.sk-toggleable__control:checked~label.sk-toggleable__label {background-color: #d4ebff;}#sk-container-id-8 div.sk-label input.sk-toggleable__control:checked~label.sk-toggleable__label {background-color: #d4ebff;}#sk-container-id-8 input.sk-hidden--visually {border: 0;clip: rect(1px 1px 1px 1px);clip: rect(1px, 1px, 1px, 1px);height: 1px;margin: -1px;overflow: hidden;padding: 0;position: absolute;width: 1px;}#sk-container-id-8 div.sk-estimator {font-family: monospace;background-color: #f0f8ff;border: 1px dotted black;border-radius: 0.25em;box-sizing: border-box;margin-bottom: 0.5em;}#sk-container-id-8 div.sk-estimator:hover {background-color: #d4ebff;}#sk-container-id-8 div.sk-parallel-item::after {content: \"\";width: 100%;border-bottom: 1px solid gray;flex-grow: 1;}#sk-container-id-8 div.sk-label:hover label.sk-toggleable__label {background-color: #d4ebff;}#sk-container-id-8 div.sk-serial::before {content: \"\";position: absolute;border-left: 1px solid gray;box-sizing: border-box;top: 0;bottom: 0;left: 50%;z-index: 0;}#sk-container-id-8 div.sk-serial {display: flex;flex-direction: column;align-items: center;background-color: white;padding-right: 0.2em;padding-left: 0.2em;position: relative;}#sk-container-id-8 div.sk-item {position: relative;z-index: 1;}#sk-container-id-8 div.sk-parallel {display: flex;align-items: stretch;justify-content: center;background-color: white;position: relative;}#sk-container-id-8 div.sk-item::before, #sk-container-id-8 div.sk-parallel-item::before {content: \"\";position: absolute;border-left: 1px solid gray;box-sizing: border-box;top: 0;bottom: 0;left: 50%;z-index: -1;}#sk-container-id-8 div.sk-parallel-item {display: flex;flex-direction: column;z-index: 1;position: relative;background-color: white;}#sk-container-id-8 div.sk-parallel-item:first-child::after {align-self: flex-end;width: 50%;}#sk-container-id-8 div.sk-parallel-item:last-child::after {align-self: flex-start;width: 50%;}#sk-container-id-8 div.sk-parallel-item:only-child::after {width: 0;}#sk-container-id-8 div.sk-dashed-wrapped {border: 1px dashed gray;margin: 0 0.4em 0.5em 0.4em;box-sizing: border-box;padding-bottom: 0.4em;background-color: white;}#sk-container-id-8 div.sk-label label {font-family: monospace;font-weight: bold;display: inline-block;line-height: 1.2em;}#sk-container-id-8 div.sk-label-container {text-align: center;}#sk-container-id-8 div.sk-container {/* jupyter's `normalize.less` sets `[hidden] { display: none; }` but bootstrap.min.css set `[hidden] { display: none !important; }` so we also need the `!important` here to be able to override the default hidden behavior on the sphinx rendered scikit-learn.org. See: https://github.com/scikit-learn/scikit-learn/issues/21755 */display: inline-block !important;position: relative;}#sk-container-id-8 div.sk-text-repr-fallback {display: none;}</style><div id=\"sk-container-id-8\" class=\"sk-top-container\"><div class=\"sk-text-repr-fallback\"><pre>RandomForestClassifier(max_depth=20, min_samples_leaf=5, n_estimators=10)</pre><b>In a Jupyter environment, please rerun this cell to show the HTML representation or trust the notebook. <br />On GitHub, the HTML representation is unable to render, please try loading this page with nbviewer.org.</b></div><div class=\"sk-container\" hidden><div class=\"sk-item\"><div class=\"sk-estimator sk-toggleable\"><input class=\"sk-toggleable__control sk-hidden--visually\" id=\"sk-estimator-id-10\" type=\"checkbox\" checked><label for=\"sk-estimator-id-10\" class=\"sk-toggleable__label sk-toggleable__label-arrow\">RandomForestClassifier</label><div class=\"sk-toggleable__content\"><pre>RandomForestClassifier(max_depth=20, min_samples_leaf=5, n_estimators=10)</pre></div></div></div></div></div>"
            ]
          },
          "metadata": {},
          "execution_count": 114
        }
      ]
    },
    {
      "cell_type": "code",
      "source": [
        "from sklearn.metrics import confusion_matrix, f1_score, accuracy_score\n",
        "prediction = clf.predict(deep_features_test)\n",
        "y_pred = np.argmax(prediction,axis=1)\n",
        "\n",
        "print(accuracy_score(y_test, y_pred))\n",
        "print(f1_score(y_test, y_pred, average='weighted'))\n"
      ],
      "metadata": {
        "colab": {
          "base_uri": "https://localhost:8080/"
        },
        "id": "cIJ18wLKs404",
        "outputId": "c04dff82-dcb5-4c2e-9b6d-c981c194f95f"
      },
      "execution_count": 115,
      "outputs": [
        {
          "output_type": "stream",
          "name": "stdout",
          "text": [
            "0.34594594594594597\n",
            "0.238618804563077\n"
          ]
        }
      ]
    },
    {
      "cell_type": "code",
      "source": [
        "from sklearn.metrics import mean_squared_error\n",
        "mean_squared_error(y_test, y_pred)"
      ],
      "metadata": {
        "colab": {
          "base_uri": "https://localhost:8080/"
        },
        "id": "viAjfShxZhw_",
        "outputId": "5af42f40-a570-4c10-92e7-a3bd4d06f092"
      },
      "execution_count": 108,
      "outputs": [
        {
          "output_type": "execute_result",
          "data": {
            "text/plain": [
              "1.3027027027027027"
            ]
          },
          "metadata": {},
          "execution_count": 108
        }
      ]
    },
    {
      "cell_type": "markdown",
      "source": [
        "\n",
        "\n",
        "Can go fancy with a grid search"
      ],
      "metadata": {
        "id": "xpd05vU1Z3KY"
      }
    },
    {
      "cell_type": "code",
      "source": [
        "rf = RandomForestClassifier(random_state=42, n_jobs=-1)\n",
        "params = {'max_depth': [100,200], 'min_samples_leaf': [100,200], 'n_estimators': [10,25,30,50,100,200]}\n",
        "from sklearn.model_selection import GridSearchCV\n",
        "\n",
        "grid_search = GridSearchCV(estimator=rf,\n",
        "                           param_grid=params,\n",
        "                           cv = 4,\n",
        "                           n_jobs=-1, verbose=1, scoring=\"accuracy\")\n",
        "\n",
        "grid_search.fit(deep_features, y_train)\n"
      ],
      "metadata": {
        "colab": {
          "base_uri": "https://localhost:8080/",
          "height": 134
        },
        "id": "CJr6DMiiVoG5",
        "outputId": "a748e9cb-1d74-4e03-f1be-5a7f3bc03df1"
      },
      "execution_count": 117,
      "outputs": [
        {
          "output_type": "stream",
          "name": "stdout",
          "text": [
            "Fitting 4 folds for each of 24 candidates, totalling 96 fits\n"
          ]
        },
        {
          "output_type": "execute_result",
          "data": {
            "text/plain": [
              "GridSearchCV(cv=4, estimator=RandomForestClassifier(n_jobs=-1, random_state=42),\n",
              "             n_jobs=-1,\n",
              "             param_grid={'max_depth': [100, 200],\n",
              "                         'min_samples_leaf': [100, 200],\n",
              "                         'n_estimators': [10, 25, 30, 50, 100, 200]},\n",
              "             scoring='accuracy', verbose=1)"
            ],
            "text/html": [
              "<style>#sk-container-id-9 {color: black;background-color: white;}#sk-container-id-9 pre{padding: 0;}#sk-container-id-9 div.sk-toggleable {background-color: white;}#sk-container-id-9 label.sk-toggleable__label {cursor: pointer;display: block;width: 100%;margin-bottom: 0;padding: 0.3em;box-sizing: border-box;text-align: center;}#sk-container-id-9 label.sk-toggleable__label-arrow:before {content: \"▸\";float: left;margin-right: 0.25em;color: #696969;}#sk-container-id-9 label.sk-toggleable__label-arrow:hover:before {color: black;}#sk-container-id-9 div.sk-estimator:hover label.sk-toggleable__label-arrow:before {color: black;}#sk-container-id-9 div.sk-toggleable__content {max-height: 0;max-width: 0;overflow: hidden;text-align: left;background-color: #f0f8ff;}#sk-container-id-9 div.sk-toggleable__content pre {margin: 0.2em;color: black;border-radius: 0.25em;background-color: #f0f8ff;}#sk-container-id-9 input.sk-toggleable__control:checked~div.sk-toggleable__content {max-height: 200px;max-width: 100%;overflow: auto;}#sk-container-id-9 input.sk-toggleable__control:checked~label.sk-toggleable__label-arrow:before {content: \"▾\";}#sk-container-id-9 div.sk-estimator input.sk-toggleable__control:checked~label.sk-toggleable__label {background-color: #d4ebff;}#sk-container-id-9 div.sk-label input.sk-toggleable__control:checked~label.sk-toggleable__label {background-color: #d4ebff;}#sk-container-id-9 input.sk-hidden--visually {border: 0;clip: rect(1px 1px 1px 1px);clip: rect(1px, 1px, 1px, 1px);height: 1px;margin: -1px;overflow: hidden;padding: 0;position: absolute;width: 1px;}#sk-container-id-9 div.sk-estimator {font-family: monospace;background-color: #f0f8ff;border: 1px dotted black;border-radius: 0.25em;box-sizing: border-box;margin-bottom: 0.5em;}#sk-container-id-9 div.sk-estimator:hover {background-color: #d4ebff;}#sk-container-id-9 div.sk-parallel-item::after {content: \"\";width: 100%;border-bottom: 1px solid gray;flex-grow: 1;}#sk-container-id-9 div.sk-label:hover label.sk-toggleable__label {background-color: #d4ebff;}#sk-container-id-9 div.sk-serial::before {content: \"\";position: absolute;border-left: 1px solid gray;box-sizing: border-box;top: 0;bottom: 0;left: 50%;z-index: 0;}#sk-container-id-9 div.sk-serial {display: flex;flex-direction: column;align-items: center;background-color: white;padding-right: 0.2em;padding-left: 0.2em;position: relative;}#sk-container-id-9 div.sk-item {position: relative;z-index: 1;}#sk-container-id-9 div.sk-parallel {display: flex;align-items: stretch;justify-content: center;background-color: white;position: relative;}#sk-container-id-9 div.sk-item::before, #sk-container-id-9 div.sk-parallel-item::before {content: \"\";position: absolute;border-left: 1px solid gray;box-sizing: border-box;top: 0;bottom: 0;left: 50%;z-index: -1;}#sk-container-id-9 div.sk-parallel-item {display: flex;flex-direction: column;z-index: 1;position: relative;background-color: white;}#sk-container-id-9 div.sk-parallel-item:first-child::after {align-self: flex-end;width: 50%;}#sk-container-id-9 div.sk-parallel-item:last-child::after {align-self: flex-start;width: 50%;}#sk-container-id-9 div.sk-parallel-item:only-child::after {width: 0;}#sk-container-id-9 div.sk-dashed-wrapped {border: 1px dashed gray;margin: 0 0.4em 0.5em 0.4em;box-sizing: border-box;padding-bottom: 0.4em;background-color: white;}#sk-container-id-9 div.sk-label label {font-family: monospace;font-weight: bold;display: inline-block;line-height: 1.2em;}#sk-container-id-9 div.sk-label-container {text-align: center;}#sk-container-id-9 div.sk-container {/* jupyter's `normalize.less` sets `[hidden] { display: none; }` but bootstrap.min.css set `[hidden] { display: none !important; }` so we also need the `!important` here to be able to override the default hidden behavior on the sphinx rendered scikit-learn.org. See: https://github.com/scikit-learn/scikit-learn/issues/21755 */display: inline-block !important;position: relative;}#sk-container-id-9 div.sk-text-repr-fallback {display: none;}</style><div id=\"sk-container-id-9\" class=\"sk-top-container\"><div class=\"sk-text-repr-fallback\"><pre>GridSearchCV(cv=4, estimator=RandomForestClassifier(n_jobs=-1, random_state=42),\n",
              "             n_jobs=-1,\n",
              "             param_grid={&#x27;max_depth&#x27;: [100, 200],\n",
              "                         &#x27;min_samples_leaf&#x27;: [100, 200],\n",
              "                         &#x27;n_estimators&#x27;: [10, 25, 30, 50, 100, 200]},\n",
              "             scoring=&#x27;accuracy&#x27;, verbose=1)</pre><b>In a Jupyter environment, please rerun this cell to show the HTML representation or trust the notebook. <br />On GitHub, the HTML representation is unable to render, please try loading this page with nbviewer.org.</b></div><div class=\"sk-container\" hidden><div class=\"sk-item sk-dashed-wrapped\"><div class=\"sk-label-container\"><div class=\"sk-label sk-toggleable\"><input class=\"sk-toggleable__control sk-hidden--visually\" id=\"sk-estimator-id-11\" type=\"checkbox\" ><label for=\"sk-estimator-id-11\" class=\"sk-toggleable__label sk-toggleable__label-arrow\">GridSearchCV</label><div class=\"sk-toggleable__content\"><pre>GridSearchCV(cv=4, estimator=RandomForestClassifier(n_jobs=-1, random_state=42),\n",
              "             n_jobs=-1,\n",
              "             param_grid={&#x27;max_depth&#x27;: [100, 200],\n",
              "                         &#x27;min_samples_leaf&#x27;: [100, 200],\n",
              "                         &#x27;n_estimators&#x27;: [10, 25, 30, 50, 100, 200]},\n",
              "             scoring=&#x27;accuracy&#x27;, verbose=1)</pre></div></div></div><div class=\"sk-parallel\"><div class=\"sk-parallel-item\"><div class=\"sk-item\"><div class=\"sk-label-container\"><div class=\"sk-label sk-toggleable\"><input class=\"sk-toggleable__control sk-hidden--visually\" id=\"sk-estimator-id-12\" type=\"checkbox\" ><label for=\"sk-estimator-id-12\" class=\"sk-toggleable__label sk-toggleable__label-arrow\">estimator: RandomForestClassifier</label><div class=\"sk-toggleable__content\"><pre>RandomForestClassifier(n_jobs=-1, random_state=42)</pre></div></div></div><div class=\"sk-serial\"><div class=\"sk-item\"><div class=\"sk-estimator sk-toggleable\"><input class=\"sk-toggleable__control sk-hidden--visually\" id=\"sk-estimator-id-13\" type=\"checkbox\" ><label for=\"sk-estimator-id-13\" class=\"sk-toggleable__label sk-toggleable__label-arrow\">RandomForestClassifier</label><div class=\"sk-toggleable__content\"><pre>RandomForestClassifier(n_jobs=-1, random_state=42)</pre></div></div></div></div></div></div></div></div></div></div>"
            ]
          },
          "metadata": {},
          "execution_count": 117
        }
      ]
    },
    {
      "cell_type": "code",
      "source": [
        "print(\" Results from Grid Search \" )\n",
        "print(\"\\n The best estimator \",grid_search.best_estimator_)\n",
        "print(\"\\n The best score\",grid_search.best_score_)\n",
        "print(\"\\n The best parameters \",grid_search.best_params_)"
      ],
      "metadata": {
        "id": "dlakQZNnWPdW",
        "colab": {
          "base_uri": "https://localhost:8080/"
        },
        "outputId": "b56240cf-0d61-481b-b7cb-be4a7fc90899"
      },
      "execution_count": 118,
      "outputs": [
        {
          "output_type": "stream",
          "name": "stdout",
          "text": [
            " Results from Grid Search \n",
            "\n",
            " The best estimator  RandomForestClassifier(max_depth=100, min_samples_leaf=100, n_estimators=10,\n",
            "                       n_jobs=-1, random_state=42)\n",
            "\n",
            " The best score 0.0\n",
            "\n",
            " The best parameters  {'max_depth': 100, 'min_samples_leaf': 100, 'n_estimators': 10}\n"
          ]
        }
      ]
    },
    {
      "cell_type": "markdown",
      "source": [
        "Gradient Boost [NOT WORKING AT ALL]"
      ],
      "metadata": {
        "id": "e2137OGG28Hu"
      }
    },
    {
      "cell_type": "code",
      "source": [
        "from sklearn.ensemble import GradientBoostingClassifier\n",
        "GBC = GradientBoostingClassifier()\n",
        "parameters = {'learning_rate': [0.01,0.02,0.03],\n",
        "                  'subsample'    : [0.9, 0.5, 0.2],\n",
        "                  'n_estimators' : [100,500,1000],\n",
        "                  'max_depth'    : [4,6,8]\n",
        "                 }\n",
        "\n"
      ],
      "metadata": {
        "id": "PEsXq4R5XHd5"
      },
      "execution_count": 121,
      "outputs": []
    },
    {
      "cell_type": "code",
      "source": [
        "y_train = np.argmax(y_train,axis=1)\n"
      ],
      "metadata": {
        "id": "zRlrmN6m3hpX"
      },
      "execution_count": 125,
      "outputs": []
    },
    {
      "cell_type": "code",
      "source": [
        "grid_GBC = GridSearchCV(estimator=GBC, param_grid = parameters, cv = 2, n_jobs=-1)\n",
        "grid_GBC.fit(deep_features, y_train)"
      ],
      "metadata": {
        "colab": {
          "base_uri": "https://localhost:8080/",
          "height": 116
        },
        "id": "VwFmk9Br3CYh",
        "outputId": "d954c10d-fc5f-45c3-aba2-8e72673a561e"
      },
      "execution_count": 126,
      "outputs": [
        {
          "output_type": "execute_result",
          "data": {
            "text/plain": [
              "GridSearchCV(cv=2, estimator=GradientBoostingClassifier(), n_jobs=-1,\n",
              "             param_grid={'learning_rate': [0.01, 0.02, 0.03],\n",
              "                         'max_depth': [4, 6, 8],\n",
              "                         'n_estimators': [100, 500, 1000],\n",
              "                         'subsample': [0.9, 0.5, 0.2]})"
            ],
            "text/html": [
              "<style>#sk-container-id-10 {color: black;background-color: white;}#sk-container-id-10 pre{padding: 0;}#sk-container-id-10 div.sk-toggleable {background-color: white;}#sk-container-id-10 label.sk-toggleable__label {cursor: pointer;display: block;width: 100%;margin-bottom: 0;padding: 0.3em;box-sizing: border-box;text-align: center;}#sk-container-id-10 label.sk-toggleable__label-arrow:before {content: \"▸\";float: left;margin-right: 0.25em;color: #696969;}#sk-container-id-10 label.sk-toggleable__label-arrow:hover:before {color: black;}#sk-container-id-10 div.sk-estimator:hover label.sk-toggleable__label-arrow:before {color: black;}#sk-container-id-10 div.sk-toggleable__content {max-height: 0;max-width: 0;overflow: hidden;text-align: left;background-color: #f0f8ff;}#sk-container-id-10 div.sk-toggleable__content pre {margin: 0.2em;color: black;border-radius: 0.25em;background-color: #f0f8ff;}#sk-container-id-10 input.sk-toggleable__control:checked~div.sk-toggleable__content {max-height: 200px;max-width: 100%;overflow: auto;}#sk-container-id-10 input.sk-toggleable__control:checked~label.sk-toggleable__label-arrow:before {content: \"▾\";}#sk-container-id-10 div.sk-estimator input.sk-toggleable__control:checked~label.sk-toggleable__label {background-color: #d4ebff;}#sk-container-id-10 div.sk-label input.sk-toggleable__control:checked~label.sk-toggleable__label {background-color: #d4ebff;}#sk-container-id-10 input.sk-hidden--visually {border: 0;clip: rect(1px 1px 1px 1px);clip: rect(1px, 1px, 1px, 1px);height: 1px;margin: -1px;overflow: hidden;padding: 0;position: absolute;width: 1px;}#sk-container-id-10 div.sk-estimator {font-family: monospace;background-color: #f0f8ff;border: 1px dotted black;border-radius: 0.25em;box-sizing: border-box;margin-bottom: 0.5em;}#sk-container-id-10 div.sk-estimator:hover {background-color: #d4ebff;}#sk-container-id-10 div.sk-parallel-item::after {content: \"\";width: 100%;border-bottom: 1px solid gray;flex-grow: 1;}#sk-container-id-10 div.sk-label:hover label.sk-toggleable__label {background-color: #d4ebff;}#sk-container-id-10 div.sk-serial::before {content: \"\";position: absolute;border-left: 1px solid gray;box-sizing: border-box;top: 0;bottom: 0;left: 50%;z-index: 0;}#sk-container-id-10 div.sk-serial {display: flex;flex-direction: column;align-items: center;background-color: white;padding-right: 0.2em;padding-left: 0.2em;position: relative;}#sk-container-id-10 div.sk-item {position: relative;z-index: 1;}#sk-container-id-10 div.sk-parallel {display: flex;align-items: stretch;justify-content: center;background-color: white;position: relative;}#sk-container-id-10 div.sk-item::before, #sk-container-id-10 div.sk-parallel-item::before {content: \"\";position: absolute;border-left: 1px solid gray;box-sizing: border-box;top: 0;bottom: 0;left: 50%;z-index: -1;}#sk-container-id-10 div.sk-parallel-item {display: flex;flex-direction: column;z-index: 1;position: relative;background-color: white;}#sk-container-id-10 div.sk-parallel-item:first-child::after {align-self: flex-end;width: 50%;}#sk-container-id-10 div.sk-parallel-item:last-child::after {align-self: flex-start;width: 50%;}#sk-container-id-10 div.sk-parallel-item:only-child::after {width: 0;}#sk-container-id-10 div.sk-dashed-wrapped {border: 1px dashed gray;margin: 0 0.4em 0.5em 0.4em;box-sizing: border-box;padding-bottom: 0.4em;background-color: white;}#sk-container-id-10 div.sk-label label {font-family: monospace;font-weight: bold;display: inline-block;line-height: 1.2em;}#sk-container-id-10 div.sk-label-container {text-align: center;}#sk-container-id-10 div.sk-container {/* jupyter's `normalize.less` sets `[hidden] { display: none; }` but bootstrap.min.css set `[hidden] { display: none !important; }` so we also need the `!important` here to be able to override the default hidden behavior on the sphinx rendered scikit-learn.org. See: https://github.com/scikit-learn/scikit-learn/issues/21755 */display: inline-block !important;position: relative;}#sk-container-id-10 div.sk-text-repr-fallback {display: none;}</style><div id=\"sk-container-id-10\" class=\"sk-top-container\"><div class=\"sk-text-repr-fallback\"><pre>GridSearchCV(cv=2, estimator=GradientBoostingClassifier(), n_jobs=-1,\n",
              "             param_grid={&#x27;learning_rate&#x27;: [0.01, 0.02, 0.03],\n",
              "                         &#x27;max_depth&#x27;: [4, 6, 8],\n",
              "                         &#x27;n_estimators&#x27;: [100, 500, 1000],\n",
              "                         &#x27;subsample&#x27;: [0.9, 0.5, 0.2]})</pre><b>In a Jupyter environment, please rerun this cell to show the HTML representation or trust the notebook. <br />On GitHub, the HTML representation is unable to render, please try loading this page with nbviewer.org.</b></div><div class=\"sk-container\" hidden><div class=\"sk-item sk-dashed-wrapped\"><div class=\"sk-label-container\"><div class=\"sk-label sk-toggleable\"><input class=\"sk-toggleable__control sk-hidden--visually\" id=\"sk-estimator-id-14\" type=\"checkbox\" ><label for=\"sk-estimator-id-14\" class=\"sk-toggleable__label sk-toggleable__label-arrow\">GridSearchCV</label><div class=\"sk-toggleable__content\"><pre>GridSearchCV(cv=2, estimator=GradientBoostingClassifier(), n_jobs=-1,\n",
              "             param_grid={&#x27;learning_rate&#x27;: [0.01, 0.02, 0.03],\n",
              "                         &#x27;max_depth&#x27;: [4, 6, 8],\n",
              "                         &#x27;n_estimators&#x27;: [100, 500, 1000],\n",
              "                         &#x27;subsample&#x27;: [0.9, 0.5, 0.2]})</pre></div></div></div><div class=\"sk-parallel\"><div class=\"sk-parallel-item\"><div class=\"sk-item\"><div class=\"sk-label-container\"><div class=\"sk-label sk-toggleable\"><input class=\"sk-toggleable__control sk-hidden--visually\" id=\"sk-estimator-id-15\" type=\"checkbox\" ><label for=\"sk-estimator-id-15\" class=\"sk-toggleable__label sk-toggleable__label-arrow\">estimator: GradientBoostingClassifier</label><div class=\"sk-toggleable__content\"><pre>GradientBoostingClassifier()</pre></div></div></div><div class=\"sk-serial\"><div class=\"sk-item\"><div class=\"sk-estimator sk-toggleable\"><input class=\"sk-toggleable__control sk-hidden--visually\" id=\"sk-estimator-id-16\" type=\"checkbox\" ><label for=\"sk-estimator-id-16\" class=\"sk-toggleable__label sk-toggleable__label-arrow\">GradientBoostingClassifier</label><div class=\"sk-toggleable__content\"><pre>GradientBoostingClassifier()</pre></div></div></div></div></div></div></div></div></div></div>"
            ]
          },
          "metadata": {},
          "execution_count": 126
        }
      ]
    },
    {
      "cell_type": "code",
      "source": [
        "print(\" Results from Grid Search \" )\n",
        "print(\"\\n The best estimator \",grid_search.best_estimator_)\n",
        "print(\"\\n The best score\",grid_search.best_score_)\n",
        "print(\"\\n The best parameters \",grid_search.best_params_)"
      ],
      "metadata": {
        "colab": {
          "base_uri": "https://localhost:8080/"
        },
        "id": "fwDLqi1166M8",
        "outputId": "b348c975-941e-48ba-ac64-285138f3caef"
      },
      "execution_count": 127,
      "outputs": [
        {
          "output_type": "stream",
          "name": "stdout",
          "text": [
            " Results from Grid Search \n",
            "\n",
            " The best estimator  RandomForestClassifier(max_depth=100, min_samples_leaf=100, n_estimators=10,\n",
            "                       n_jobs=-1, random_state=42)\n",
            "\n",
            " The best score 0.0\n",
            "\n",
            " The best parameters  {'max_depth': 100, 'min_samples_leaf': 100, 'n_estimators': 10}\n"
          ]
        }
      ]
    },
    {
      "cell_type": "code",
      "source": [],
      "metadata": {
        "id": "hSllcexs7Kve"
      },
      "execution_count": null,
      "outputs": []
    }
  ]
}